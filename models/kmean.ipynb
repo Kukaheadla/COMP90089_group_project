{
 "cells": [
  {
   "cell_type": "code",
   "execution_count": 20,
   "metadata": {},
   "outputs": [],
   "source": [
    "# Import libraries\n",
    "import numpy as np\n",
    "import pandas as pd\n",
    "import matplotlib.pyplot as plt\n",
    "from collections import Counter\n",
    "from sklearn.cluster import KMeans\n",
    "\n",
    "SEED=90089\n"
   ]
  },
  {
   "cell_type": "code",
   "execution_count": 12,
   "metadata": {},
   "outputs": [
    {
     "name": "stdout",
     "output_type": "stream",
     "text": [
      "Dataframe shape:    (14077, 17)\n",
      "Dataframe Features: Index(['subject_id', 'stay_id', 'glucose_max', 'anchor_age', 'dod', 'gender',\n",
      "       'dbp_mean', 'sbp_mean', 'glucose_mean', 'heart_rate_mean', 'spo2_mean',\n",
      "       'resp_rate_mean', 'temperature_mean', 'apsiii', 'glucose_score', 'los',\n",
      "       'avg_bmi_value'],\n",
      "      dtype='object')\n"
     ]
    },
    {
     "data": {
      "text/html": [
       "<div>\n",
       "<style scoped>\n",
       "    .dataframe tbody tr th:only-of-type {\n",
       "        vertical-align: middle;\n",
       "    }\n",
       "\n",
       "    .dataframe tbody tr th {\n",
       "        vertical-align: top;\n",
       "    }\n",
       "\n",
       "    .dataframe thead th {\n",
       "        text-align: right;\n",
       "    }\n",
       "</style>\n",
       "<table border=\"1\" class=\"dataframe\">\n",
       "  <thead>\n",
       "    <tr style=\"text-align: right;\">\n",
       "      <th></th>\n",
       "      <th>subject_id</th>\n",
       "      <th>stay_id</th>\n",
       "      <th>glucose_max</th>\n",
       "      <th>anchor_age</th>\n",
       "      <th>dod</th>\n",
       "      <th>gender</th>\n",
       "      <th>dbp_mean</th>\n",
       "      <th>sbp_mean</th>\n",
       "      <th>glucose_mean</th>\n",
       "      <th>heart_rate_mean</th>\n",
       "      <th>spo2_mean</th>\n",
       "      <th>resp_rate_mean</th>\n",
       "      <th>temperature_mean</th>\n",
       "      <th>apsiii</th>\n",
       "      <th>glucose_score</th>\n",
       "      <th>los</th>\n",
       "      <th>avg_bmi_value</th>\n",
       "    </tr>\n",
       "  </thead>\n",
       "  <tbody>\n",
       "    <tr>\n",
       "      <th>0</th>\n",
       "      <td>12041046</td>\n",
       "      <td>31249096</td>\n",
       "      <td>277.0</td>\n",
       "      <td>36</td>\n",
       "      <td>0</td>\n",
       "      <td>0</td>\n",
       "      <td>64.320000</td>\n",
       "      <td>112.880000</td>\n",
       "      <td>221.272727</td>\n",
       "      <td>101.800000</td>\n",
       "      <td>92.000000</td>\n",
       "      <td>17.346154</td>\n",
       "      <td>37.186250</td>\n",
       "      <td>38</td>\n",
       "      <td>3</td>\n",
       "      <td>1.938414</td>\n",
       "      <td>26.750000</td>\n",
       "    </tr>\n",
       "    <tr>\n",
       "      <th>1</th>\n",
       "      <td>17421995</td>\n",
       "      <td>38100564</td>\n",
       "      <td>2340.0</td>\n",
       "      <td>35</td>\n",
       "      <td>0</td>\n",
       "      <td>0</td>\n",
       "      <td>77.769231</td>\n",
       "      <td>122.961538</td>\n",
       "      <td>468.592593</td>\n",
       "      <td>105.361111</td>\n",
       "      <td>96.093023</td>\n",
       "      <td>19.813953</td>\n",
       "      <td>36.727586</td>\n",
       "      <td>87</td>\n",
       "      <td>5</td>\n",
       "      <td>4.472905</td>\n",
       "      <td>30.558477</td>\n",
       "    </tr>\n",
       "    <tr>\n",
       "      <th>2</th>\n",
       "      <td>10352416</td>\n",
       "      <td>35043893</td>\n",
       "      <td>531.0</td>\n",
       "      <td>23</td>\n",
       "      <td>1</td>\n",
       "      <td>0</td>\n",
       "      <td>64.169118</td>\n",
       "      <td>119.661765</td>\n",
       "      <td>275.352941</td>\n",
       "      <td>154.028986</td>\n",
       "      <td>83.698413</td>\n",
       "      <td>25.584615</td>\n",
       "      <td>39.725000</td>\n",
       "      <td>158</td>\n",
       "      <td>5</td>\n",
       "      <td>11.636042</td>\n",
       "      <td>30.558477</td>\n",
       "    </tr>\n",
       "    <tr>\n",
       "      <th>3</th>\n",
       "      <td>16924291</td>\n",
       "      <td>34261137</td>\n",
       "      <td>259.0</td>\n",
       "      <td>19</td>\n",
       "      <td>1</td>\n",
       "      <td>1</td>\n",
       "      <td>49.300000</td>\n",
       "      <td>74.200000</td>\n",
       "      <td>259.000000</td>\n",
       "      <td>89.750000</td>\n",
       "      <td>70.000000</td>\n",
       "      <td>26.333333</td>\n",
       "      <td>31.900000</td>\n",
       "      <td>88</td>\n",
       "      <td>3</td>\n",
       "      <td>0.309664</td>\n",
       "      <td>30.558477</td>\n",
       "    </tr>\n",
       "    <tr>\n",
       "      <th>4</th>\n",
       "      <td>15705944</td>\n",
       "      <td>37056020</td>\n",
       "      <td>406.0</td>\n",
       "      <td>24</td>\n",
       "      <td>0</td>\n",
       "      <td>0</td>\n",
       "      <td>57.333333</td>\n",
       "      <td>92.848485</td>\n",
       "      <td>292.000000</td>\n",
       "      <td>86.631579</td>\n",
       "      <td>96.162162</td>\n",
       "      <td>15.289474</td>\n",
       "      <td>33.590000</td>\n",
       "      <td>150</td>\n",
       "      <td>5</td>\n",
       "      <td>17.513646</td>\n",
       "      <td>30.558477</td>\n",
       "    </tr>\n",
       "  </tbody>\n",
       "</table>\n",
       "</div>"
      ],
      "text/plain": [
       "   subject_id   stay_id  glucose_max  anchor_age  dod  gender   dbp_mean  \\\n",
       "0    12041046  31249096        277.0          36    0       0  64.320000   \n",
       "1    17421995  38100564       2340.0          35    0       0  77.769231   \n",
       "2    10352416  35043893        531.0          23    1       0  64.169118   \n",
       "3    16924291  34261137        259.0          19    1       1  49.300000   \n",
       "4    15705944  37056020        406.0          24    0       0  57.333333   \n",
       "\n",
       "     sbp_mean  glucose_mean  heart_rate_mean  spo2_mean  resp_rate_mean  \\\n",
       "0  112.880000    221.272727       101.800000  92.000000       17.346154   \n",
       "1  122.961538    468.592593       105.361111  96.093023       19.813953   \n",
       "2  119.661765    275.352941       154.028986  83.698413       25.584615   \n",
       "3   74.200000    259.000000        89.750000  70.000000       26.333333   \n",
       "4   92.848485    292.000000        86.631579  96.162162       15.289474   \n",
       "\n",
       "   temperature_mean  apsiii  glucose_score        los  avg_bmi_value  \n",
       "0         37.186250      38              3   1.938414      26.750000  \n",
       "1         36.727586      87              5   4.472905      30.558477  \n",
       "2         39.725000     158              5  11.636042      30.558477  \n",
       "3         31.900000      88              3   0.309664      30.558477  \n",
       "4         33.590000     150              5  17.513646      30.558477  "
      ]
     },
     "execution_count": 12,
     "metadata": {},
     "output_type": "execute_result"
    }
   ],
   "source": [
    "# Read Data\n",
    "patient_df = pd.read_csv('../data/hyperglycemic_patients.csv')\n",
    "\n",
    "#Print shape and data preview\n",
    "print(\"Dataframe shape:   \", patient_df.shape)\n",
    "print(\"Dataframe Features:\", patient_df.columns)\n",
    "patient_df.head()"
   ]
  },
  {
   "cell_type": "markdown",
   "metadata": {},
   "source": [
    "### Using Elbow methods to determine optimal clusters"
   ]
  },
  {
   "cell_type": "code",
   "execution_count": 16,
   "metadata": {},
   "outputs": [],
   "source": [
    "# numerical_features = ['glucose_max', 'anchor_age', 'dbp_mean', \n",
    "#                     'sbp_mean', 'glucose_mean', 'heart_rate_mean', 'spo2_mean', \n",
    "#                     'resp_rate_mean', 'temperature_mean', 'apsiii', 'glucose_score', 'avg_bmi_value']\n",
    "\n",
    "# # Standardized variable for consistent measurement across numerical values\n",
    "# scaler = StandardScaler()\n",
    "# X_train_std = scaler.fit_transform(patient_df[numerical_features]) "
   ]
  },
  {
   "cell_type": "code",
   "execution_count": 25,
   "metadata": {},
   "outputs": [],
   "source": [
    "los_values = patient_df[['los']]\n",
    "inertia_lst = []\n",
    "\n",
    "for i in range(1, 11):\n",
    "    kmeans = KMeans(n_clusters=i, init='k-means++', random_state=SEED)\n",
    "    kmeans.fit(los_values)\n",
    "    inertia_lst.append(kmeans.inertia_)"
   ]
  },
  {
   "cell_type": "code",
   "execution_count": 27,
   "metadata": {},
   "outputs": [
    {
     "data": {
      "image/png": "[encoded data removed]",
      "text/plain": [
       "<Figure size 432x288 with 1 Axes>"
      ]
     },
     "metadata": {
      "needs_background": "light"
     },
     "output_type": "display_data"
    }
   ],
   "source": [
    "plt.plot(list(range(1, 11)), inertia_lst, 'bx-')\n",
    "plt.title(\"k for KMeans vs. k-th Intertia \")\n",
    "plt.xlabel(\"Number of Neighbours\")\n",
    "plt.ylabel(\"Distorsions Performance\")\n",
    "plt.show()"
   ]
  },
  {
   "cell_type": "code",
   "execution_count": 29,
   "metadata": {},
   "outputs": [
    {
     "data": {
      "text/plain": [
       "array([[ 2.24170733],\n",
       "       [10.42822581],\n",
       "       [28.20837499]])"
      ]
     },
     "execution_count": 29,
     "metadata": {},
     "output_type": "execute_result"
    }
   ],
   "source": [
    "# we use 3 labels to encode cateogories\n",
    "kmeans = KMeans(n_clusters=3, random_state=0)\n",
    "patient_df['label'] = kmeans.fit_predict(patient_df[['los']])\n",
    "kmeans.cluster_centers_"
   ]
  },
  {
   "cell_type": "code",
   "execution_count": 38,
   "metadata": {},
   "outputs": [
    {
     "data": {
      "text/plain": [
       "Text(0, 0.5, 'Length-of-Stay Number')"
      ]
     },
     "execution_count": 38,
     "metadata": {},
     "output_type": "execute_result"
    },
    {
     "data": {
      "image/png": "[encoded data removed]",
      "text/plain": [
       "<Figure size 432x288 with 1 Axes>"
      ]
     },
     "metadata": {
      "needs_background": "light"
     },
     "output_type": "display_data"
    }
   ],
   "source": [
    "fig, ax = plt.subplots()\n",
    "for label in range(3):\n",
    "    y = patient_df[patient_df['label'] == label]['los']\n",
    "    ax.scatter(np.repeat(label, len(y)), y, alpha=0.3, label=label)\n",
    "    center_y = y.mean()\n",
    "    ax.scatter(label, kmeans.cluster_centers_[label],\n",
    "                marker=\"x\",\n",
    "                s=200,\n",
    "                linewidths=3,\n",
    "                color=\"black\")\n",
    "plt.title(\"Length-of-Stay (LoS) Categorical Label Distribution\")\n",
    "plt.xlabel(\"LoS Labels\")\n",
    "plt.ylabel(\"Length-of-Stay Number\")"
   ]
  },
  {
   "cell_type": "code",
   "execution_count": 39,
   "metadata": {},
   "outputs": [
    {
     "name": "stdout",
     "output_type": "stream",
     "text": [
      "label spaces:  [0 1 2]\n"
     ]
    },
    {
     "data": {
      "text/html": [
       "<div>\n",
       "<style scoped>\n",
       "    .dataframe tbody tr th:only-of-type {\n",
       "        vertical-align: middle;\n",
       "    }\n",
       "\n",
       "    .dataframe tbody tr th {\n",
       "        vertical-align: top;\n",
       "    }\n",
       "\n",
       "    .dataframe thead th {\n",
       "        text-align: right;\n",
       "    }\n",
       "</style>\n",
       "<table border=\"1\" class=\"dataframe\">\n",
       "  <thead>\n",
       "    <tr style=\"text-align: right;\">\n",
       "      <th></th>\n",
       "      <th>subject_id</th>\n",
       "      <th>stay_id</th>\n",
       "      <th>glucose_max</th>\n",
       "      <th>anchor_age</th>\n",
       "      <th>dod</th>\n",
       "      <th>gender</th>\n",
       "      <th>dbp_mean</th>\n",
       "      <th>sbp_mean</th>\n",
       "      <th>glucose_mean</th>\n",
       "      <th>heart_rate_mean</th>\n",
       "      <th>spo2_mean</th>\n",
       "      <th>resp_rate_mean</th>\n",
       "      <th>temperature_mean</th>\n",
       "      <th>apsiii</th>\n",
       "      <th>glucose_score</th>\n",
       "      <th>avg_bmi_value</th>\n",
       "      <th>label</th>\n",
       "    </tr>\n",
       "  </thead>\n",
       "  <tbody>\n",
       "    <tr>\n",
       "      <th>0</th>\n",
       "      <td>12041046</td>\n",
       "      <td>31249096</td>\n",
       "      <td>277.0</td>\n",
       "      <td>36</td>\n",
       "      <td>0</td>\n",
       "      <td>0</td>\n",
       "      <td>64.320000</td>\n",
       "      <td>112.880000</td>\n",
       "      <td>221.272727</td>\n",
       "      <td>101.800000</td>\n",
       "      <td>92.000000</td>\n",
       "      <td>17.346154</td>\n",
       "      <td>37.186250</td>\n",
       "      <td>38</td>\n",
       "      <td>3</td>\n",
       "      <td>26.750000</td>\n",
       "      <td>0</td>\n",
       "    </tr>\n",
       "    <tr>\n",
       "      <th>1</th>\n",
       "      <td>17421995</td>\n",
       "      <td>38100564</td>\n",
       "      <td>2340.0</td>\n",
       "      <td>35</td>\n",
       "      <td>0</td>\n",
       "      <td>0</td>\n",
       "      <td>77.769231</td>\n",
       "      <td>122.961538</td>\n",
       "      <td>468.592593</td>\n",
       "      <td>105.361111</td>\n",
       "      <td>96.093023</td>\n",
       "      <td>19.813953</td>\n",
       "      <td>36.727586</td>\n",
       "      <td>87</td>\n",
       "      <td>5</td>\n",
       "      <td>30.558477</td>\n",
       "      <td>0</td>\n",
       "    </tr>\n",
       "    <tr>\n",
       "      <th>2</th>\n",
       "      <td>10352416</td>\n",
       "      <td>35043893</td>\n",
       "      <td>531.0</td>\n",
       "      <td>23</td>\n",
       "      <td>1</td>\n",
       "      <td>0</td>\n",
       "      <td>64.169118</td>\n",
       "      <td>119.661765</td>\n",
       "      <td>275.352941</td>\n",
       "      <td>154.028986</td>\n",
       "      <td>83.698413</td>\n",
       "      <td>25.584615</td>\n",
       "      <td>39.725000</td>\n",
       "      <td>158</td>\n",
       "      <td>5</td>\n",
       "      <td>30.558477</td>\n",
       "      <td>1</td>\n",
       "    </tr>\n",
       "    <tr>\n",
       "      <th>3</th>\n",
       "      <td>16924291</td>\n",
       "      <td>34261137</td>\n",
       "      <td>259.0</td>\n",
       "      <td>19</td>\n",
       "      <td>1</td>\n",
       "      <td>1</td>\n",
       "      <td>49.300000</td>\n",
       "      <td>74.200000</td>\n",
       "      <td>259.000000</td>\n",
       "      <td>89.750000</td>\n",
       "      <td>70.000000</td>\n",
       "      <td>26.333333</td>\n",
       "      <td>31.900000</td>\n",
       "      <td>88</td>\n",
       "      <td>3</td>\n",
       "      <td>30.558477</td>\n",
       "      <td>0</td>\n",
       "    </tr>\n",
       "    <tr>\n",
       "      <th>4</th>\n",
       "      <td>15705944</td>\n",
       "      <td>37056020</td>\n",
       "      <td>406.0</td>\n",
       "      <td>24</td>\n",
       "      <td>0</td>\n",
       "      <td>0</td>\n",
       "      <td>57.333333</td>\n",
       "      <td>92.848485</td>\n",
       "      <td>292.000000</td>\n",
       "      <td>86.631579</td>\n",
       "      <td>96.162162</td>\n",
       "      <td>15.289474</td>\n",
       "      <td>33.590000</td>\n",
       "      <td>150</td>\n",
       "      <td>5</td>\n",
       "      <td>30.558477</td>\n",
       "      <td>1</td>\n",
       "    </tr>\n",
       "  </tbody>\n",
       "</table>\n",
       "</div>"
      ],
      "text/plain": [
       "   subject_id   stay_id  glucose_max  anchor_age  dod  gender   dbp_mean  \\\n",
       "0    12041046  31249096        277.0          36    0       0  64.320000   \n",
       "1    17421995  38100564       2340.0          35    0       0  77.769231   \n",
       "2    10352416  35043893        531.0          23    1       0  64.169118   \n",
       "3    16924291  34261137        259.0          19    1       1  49.300000   \n",
       "4    15705944  37056020        406.0          24    0       0  57.333333   \n",
       "\n",
       "     sbp_mean  glucose_mean  heart_rate_mean  spo2_mean  resp_rate_mean  \\\n",
       "0  112.880000    221.272727       101.800000  92.000000       17.346154   \n",
       "1  122.961538    468.592593       105.361111  96.093023       19.813953   \n",
       "2  119.661765    275.352941       154.028986  83.698413       25.584615   \n",
       "3   74.200000    259.000000        89.750000  70.000000       26.333333   \n",
       "4   92.848485    292.000000        86.631579  96.162162       15.289474   \n",
       "\n",
       "   temperature_mean  apsiii  glucose_score  avg_bmi_value  label  \n",
       "0         37.186250      38              3      26.750000      0  \n",
       "1         36.727586      87              5      30.558477      0  \n",
       "2         39.725000     158              5      30.558477      1  \n",
       "3         31.900000      88              3      30.558477      0  \n",
       "4         33.590000     150              5      30.558477      1  "
      ]
     },
     "execution_count": 39,
     "metadata": {},
     "output_type": "execute_result"
    }
   ],
   "source": [
    "labelled_patient_df = patient_df.drop(labels='los', axis=1)\n",
    "print(\"label spaces: \", np.unique(patient_df[['label']]))\n",
    "labelled_patient_df.head()"
   ]
  },
  {
   "cell_type": "code",
   "execution_count": 40,
   "metadata": {},
   "outputs": [],
   "source": [
    "# Export label data to csv\n",
    "labelled_patient_df.to_csv('../data/hyperglycemic_patients_w_categories.csv')"
   ]
  },
  {
   "cell_type": "code",
   "execution_count": 78,
   "metadata": {},
   "outputs": [],
   "source": [
    "# # Data split\n",
    "# X = label_df.loc[:, label_df.columns != 'label']\n",
    "# y = label_df.loc[:, label_df.columns == 'label']\n",
    "# X_train, X_test, y_train, y_test = train_test_split(X, y, test_size=0.3, random_state=89)\n",
    "# X_valid, X_test, y_valid, y_test = train_test_split(X_test, y_test, test_size=0.5, random_state=89)"
   ]
  },
  {
   "cell_type": "code",
   "execution_count": null,
   "metadata": {},
   "outputs": [],
   "source": []
  }
 ],
 "metadata": {
  "kernelspec": {
   "display_name": "Python 3.8.8 64-bit ('3.8.8')",
   "language": "python",
   "name": "python3"
  },
  "language_info": {
   "codemirror_mode": {
    "name": "ipython",
    "version": 3
   },
   "file_extension": ".py",
   "mimetype": "text/x-python",
   "name": "python",
   "nbconvert_exporter": "python",
   "pygments_lexer": "ipython3",
   "version": "3.8.8"
  },
  "orig_nbformat": 4,
  "vscode": {
   "interpreter": {
    "hash": "7fe293631dbf4e3e938f4425b0bc23001f90f8ce621e843dc3f8b4d5fe727f19"
   }
  }
 },
 "nbformat": 4,
 "nbformat_minor": 2
}
