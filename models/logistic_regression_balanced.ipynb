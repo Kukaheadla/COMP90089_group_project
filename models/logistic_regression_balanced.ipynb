{
 "cells": [
  {
   "cell_type": "code",
   "execution_count": 2,
   "metadata": {},
   "outputs": [],
   "source": [
    "# Load libraries\n",
    "import warnings\n",
    "import numpy as np\n",
    "import pandas as pd\n",
    "import os\n",
    "from collections import Counter\n",
    "from imblearn.over_sampling import SMOTE\n",
    "from sklearn.linear_model import LogisticRegression\n",
    "from sklearn.preprocessing import StandardScaler\n",
    "\n",
    "from sklearn.model_selection import GridSearchCV, StratifiedKFold, cross_val_score, train_test_split\n",
    "from sklearn.exceptions import ConvergenceWarning\n",
    "from sklearn.metrics import classification_report\n",
    "SEED = 90089"
   ]
  },
  {
   "cell_type": "code",
   "execution_count": 13,
   "metadata": {},
   "outputs": [],
   "source": [
    "# disable deprecation warnings and convergence warning after production \n",
    "os.environ[\"PYTHONWARNINGS\"] = \"ignore::UserWarning\""
   ]
  },
  {
   "cell_type": "markdown",
   "metadata": {},
   "source": [
    "### `LogisticRegression` Classifier on Hyperclygemic patients"
   ]
  },
  {
   "cell_type": "code",
   "execution_count": 5,
   "metadata": {},
   "outputs": [
    {
     "name": "stdout",
     "output_type": "stream",
     "text": [
      "Dataframe shape:    (12872, 15)\n",
      "Dataframe Features: Index(['glucose_max', 'anchor_age', 'dod', 'gender', 'dbp_mean', 'sbp_mean',\n",
      "       'glucose_mean', 'heart_rate_mean', 'spo2_mean', 'resp_rate_mean',\n",
      "       'temperature_mean', 'apsiii', 'glucose_score', 'avg_bmi_value',\n",
      "       'label'],\n",
      "      dtype='object')\n"
     ]
    },
    {
     "data": {
      "text/html": [
       "<div>\n",
       "<style scoped>\n",
       "    .dataframe tbody tr th:only-of-type {\n",
       "        vertical-align: middle;\n",
       "    }\n",
       "\n",
       "    .dataframe tbody tr th {\n",
       "        vertical-align: top;\n",
       "    }\n",
       "\n",
       "    .dataframe thead th {\n",
       "        text-align: right;\n",
       "    }\n",
       "</style>\n",
       "<table border=\"1\" class=\"dataframe\">\n",
       "  <thead>\n",
       "    <tr style=\"text-align: right;\">\n",
       "      <th></th>\n",
       "      <th>glucose_max</th>\n",
       "      <th>anchor_age</th>\n",
       "      <th>dod</th>\n",
       "      <th>gender</th>\n",
       "      <th>dbp_mean</th>\n",
       "      <th>sbp_mean</th>\n",
       "      <th>glucose_mean</th>\n",
       "      <th>heart_rate_mean</th>\n",
       "      <th>spo2_mean</th>\n",
       "      <th>resp_rate_mean</th>\n",
       "      <th>temperature_mean</th>\n",
       "      <th>apsiii</th>\n",
       "      <th>glucose_score</th>\n",
       "      <th>avg_bmi_value</th>\n",
       "      <th>label</th>\n",
       "    </tr>\n",
       "  </thead>\n",
       "  <tbody>\n",
       "    <tr>\n",
       "      <th>0</th>\n",
       "      <td>277.0</td>\n",
       "      <td>36</td>\n",
       "      <td>0</td>\n",
       "      <td>0</td>\n",
       "      <td>64.320000</td>\n",
       "      <td>112.880000</td>\n",
       "      <td>221.272727</td>\n",
       "      <td>101.800000</td>\n",
       "      <td>92.000000</td>\n",
       "      <td>17.346154</td>\n",
       "      <td>37.186250</td>\n",
       "      <td>38</td>\n",
       "      <td>3</td>\n",
       "      <td>26.750000</td>\n",
       "      <td>0</td>\n",
       "    </tr>\n",
       "    <tr>\n",
       "      <th>1</th>\n",
       "      <td>2340.0</td>\n",
       "      <td>35</td>\n",
       "      <td>0</td>\n",
       "      <td>0</td>\n",
       "      <td>77.769231</td>\n",
       "      <td>122.961538</td>\n",
       "      <td>468.592593</td>\n",
       "      <td>105.361111</td>\n",
       "      <td>96.093023</td>\n",
       "      <td>19.813953</td>\n",
       "      <td>36.727586</td>\n",
       "      <td>87</td>\n",
       "      <td>5</td>\n",
       "      <td>30.558477</td>\n",
       "      <td>1</td>\n",
       "    </tr>\n",
       "    <tr>\n",
       "      <th>2</th>\n",
       "      <td>531.0</td>\n",
       "      <td>23</td>\n",
       "      <td>1</td>\n",
       "      <td>0</td>\n",
       "      <td>64.169118</td>\n",
       "      <td>119.661765</td>\n",
       "      <td>275.352941</td>\n",
       "      <td>154.028986</td>\n",
       "      <td>83.698413</td>\n",
       "      <td>25.584615</td>\n",
       "      <td>39.725000</td>\n",
       "      <td>158</td>\n",
       "      <td>5</td>\n",
       "      <td>30.558477</td>\n",
       "      <td>2</td>\n",
       "    </tr>\n",
       "    <tr>\n",
       "      <th>3</th>\n",
       "      <td>259.0</td>\n",
       "      <td>19</td>\n",
       "      <td>1</td>\n",
       "      <td>1</td>\n",
       "      <td>49.300000</td>\n",
       "      <td>74.200000</td>\n",
       "      <td>259.000000</td>\n",
       "      <td>89.750000</td>\n",
       "      <td>70.000000</td>\n",
       "      <td>26.333333</td>\n",
       "      <td>31.900000</td>\n",
       "      <td>88</td>\n",
       "      <td>3</td>\n",
       "      <td>30.558477</td>\n",
       "      <td>0</td>\n",
       "    </tr>\n",
       "    <tr>\n",
       "      <th>4</th>\n",
       "      <td>398.0</td>\n",
       "      <td>31</td>\n",
       "      <td>0</td>\n",
       "      <td>0</td>\n",
       "      <td>78.600000</td>\n",
       "      <td>133.800000</td>\n",
       "      <td>285.000000</td>\n",
       "      <td>100.826087</td>\n",
       "      <td>90.304348</td>\n",
       "      <td>25.173913</td>\n",
       "      <td>36.593333</td>\n",
       "      <td>34</td>\n",
       "      <td>5</td>\n",
       "      <td>30.558477</td>\n",
       "      <td>0</td>\n",
       "    </tr>\n",
       "  </tbody>\n",
       "</table>\n",
       "</div>"
      ],
      "text/plain": [
       "   glucose_max  anchor_age  dod  gender   dbp_mean    sbp_mean  glucose_mean  \\\n",
       "0        277.0          36    0       0  64.320000  112.880000    221.272727   \n",
       "1       2340.0          35    0       0  77.769231  122.961538    468.592593   \n",
       "2        531.0          23    1       0  64.169118  119.661765    275.352941   \n",
       "3        259.0          19    1       1  49.300000   74.200000    259.000000   \n",
       "4        398.0          31    0       0  78.600000  133.800000    285.000000   \n",
       "\n",
       "   heart_rate_mean  spo2_mean  resp_rate_mean  temperature_mean  apsiii  \\\n",
       "0       101.800000  92.000000       17.346154         37.186250      38   \n",
       "1       105.361111  96.093023       19.813953         36.727586      87   \n",
       "2       154.028986  83.698413       25.584615         39.725000     158   \n",
       "3        89.750000  70.000000       26.333333         31.900000      88   \n",
       "4       100.826087  90.304348       25.173913         36.593333      34   \n",
       "\n",
       "   glucose_score  avg_bmi_value  label  \n",
       "0              3      26.750000      0  \n",
       "1              5      30.558477      1  \n",
       "2              5      30.558477      2  \n",
       "3              3      30.558477      0  \n",
       "4              5      30.558477      0  "
      ]
     },
     "execution_count": 5,
     "metadata": {},
     "output_type": "execute_result"
    }
   ],
   "source": [
    "# Read data\n",
    "patient_df = pd.read_csv('../data/hyperglycemic_patients_w_bin_categories.csv', usecols=list(range(3,19)))\n",
    "patient_df = patient_df.drop(['los'], axis=1)\n",
    "\n",
    "# Previewing data\n",
    "print(\"Dataframe shape:   \", patient_df.shape)\n",
    "print(\"Dataframe Features:\", patient_df.columns)\n",
    "patient_df.head()"
   ]
  },
  {
   "cell_type": "markdown",
   "metadata": {},
   "source": [
    "### LR without `StandardScaler`"
   ]
  },
  {
   "cell_type": "code",
   "execution_count": 6,
   "metadata": {},
   "outputs": [],
   "source": [
    "# Data split\n",
    "X = patient_df.loc[:, patient_df.columns != 'label']\n",
    "y = patient_df.iloc[:, -1]\n",
    "X_train, X_test, y_train, y_test = train_test_split(X, y, test_size=0.2, random_state=SEED)"
   ]
  },
  {
   "cell_type": "code",
   "execution_count": 20,
   "metadata": {},
   "outputs": [
    {
     "name": "stdout",
     "output_type": "stream",
     "text": [
      "Counter({0: 6729, 1: 6729, 2: 6729})\n"
     ]
    }
   ],
   "source": [
    "# Resample data to tackle class imbalance\n",
    "oversample = SMOTE()\n",
    "X_sampled, y_sampled = oversample.fit_resample(X_train, y_train)\n",
    "\n",
    "# summarize the resampled label distribution\n",
    "counter = Counter(y_sampled)\n",
    "print(counter)"
   ]
  },
  {
   "cell_type": "code",
   "execution_count": 21,
   "metadata": {},
   "outputs": [
    {
     "data": {
      "text/plain": [
       "GridSearchCV(cv=5, estimator=LogisticRegression(random_state=90089), n_jobs=8,\n",
       "             param_grid={'C': [0.1, 1, 10], 'max_iter': [500, 1000],\n",
       "                         'penalty': ['l1', 'l2'],\n",
       "                         'solver': ['liblinear', 'saga']})"
      ]
     },
     "execution_count": 21,
     "metadata": {},
     "output_type": "execute_result"
    }
   ],
   "source": [
    "# Tune model with stratifiedKFold cross validation\n",
    "lr = LogisticRegression(random_state=SEED)\n",
    "\n",
    "parameters = {\n",
    "    'penalty' : ['l1', 'l2'],\n",
    "    'C'       : [0.1, 1, 10],\n",
    "    'solver'  : ['liblinear', 'saga'], \n",
    "    'max_iter': [500, 1000]}\n",
    "grid_lr = GridSearchCV(lr, parameters, cv=5, n_jobs=8)\n",
    "grid_lr.fit(X_sampled, y_sampled)"
   ]
  },
  {
   "cell_type": "code",
   "execution_count": 10,
   "metadata": {},
   "outputs": [
    {
     "name": "stdout",
     "output_type": "stream",
     "text": [
      "----         Results from Grid Search           ---\n",
      "\n",
      " The best estimator across ALL searched params:\n",
      " LogisticRegression(C=1, max_iter=500, penalty='l1', random_state=90089,\n",
      "                   solver='liblinear')\n",
      "\n",
      " The best parameters across ALL searched params:\n",
      " {'C': 1, 'max_iter': 500, 'penalty': 'l1', 'solver': 'liblinear'}\n"
     ]
    }
   ],
   "source": [
    "print(\"----         Results from Grid Search           ---\")\n",
    "print(\"\\n The best estimator across ALL searched params:\\n\", grid_lr.best_estimator_)\n",
    "print(\"\\n The best parameters across ALL searched params:\\n\", grid_lr.best_params_)"
   ]
  },
  {
   "cell_type": "code",
   "execution_count": 11,
   "metadata": {},
   "outputs": [],
   "source": [
    "best_lr = LogisticRegression(C=1,\n",
    "                            penalty='l1',\n",
    "                            solver='liblinear',\n",
    "                            random_state=SEED,\n",
    "                            max_iter=500,\n",
    "                            n_jobs=8)"
   ]
  },
  {
   "cell_type": "code",
   "execution_count": 22,
   "metadata": {},
   "outputs": [
    {
     "name": "stderr",
     "output_type": "stream",
     "text": [
      "d:\\miniconda3\\envs\\cv\\lib\\site-packages\\sklearn\\linear_model\\_logistic.py:1526: UserWarning: 'n_jobs' > 1 does not have any effect when 'solver' is set to 'liblinear'. Got 'n_jobs' = 8.\n",
      "  \" = {}.\".format(effective_n_jobs(self.n_jobs))\n"
     ]
    },
    {
     "data": {
      "text/plain": [
       "LogisticRegression(C=1, max_iter=500, n_jobs=8, penalty='l1',\n",
       "                   random_state=90089, solver='liblinear')"
      ]
     },
     "execution_count": 22,
     "metadata": {},
     "output_type": "execute_result"
    }
   ],
   "source": [
    "best_lr.fit(X_sampled, y_sampled)"
   ]
  },
  {
   "cell_type": "code",
   "execution_count": 23,
   "metadata": {},
   "outputs": [
    {
     "name": "stdout",
     "output_type": "stream",
     "text": [
      "Model Accuracy based on Testing dataset: 0.56777\n"
     ]
    }
   ],
   "source": [
    "print(\"Model Accuracy based on Testing dataset: {:.5f}\".format(best_lr.score(X_test, y_test)))"
   ]
  },
  {
   "cell_type": "markdown",
   "metadata": {},
   "source": [
    "### LR Model with `StandardScaler`"
   ]
  },
  {
   "cell_type": "code",
   "execution_count": 24,
   "metadata": {},
   "outputs": [
    {
     "name": "stdout",
     "output_type": "stream",
     "text": [
      "X Standardized data Shape:  (12872, 12)\n",
      "X Categorical data shape:   (12872, 2)\n",
      "X, y shape:                 (12872, 14) (12872,)\n"
     ]
    }
   ],
   "source": [
    "numerical_features = ['glucose_max', 'dbp_mean', 'sbp_mean', 'glucose_mean', 'anchor_age',\n",
    "                      'heart_rate_mean', 'spo2_mean', 'resp_rate_mean', 'temperature_mean', \n",
    "                      'apsiii', 'glucose_score', 'avg_bmi_value']\n",
    "\n",
    "# Standardized variable for consistent measurement across numerical values\n",
    "scaler = StandardScaler()\n",
    "X_std = scaler.fit_transform(patient_df[numerical_features])\n",
    "\n",
    "# Interpolate categorical variables\n",
    "X_cat = patient_df[['dod', 'gender']]\n",
    "\n",
    "\n",
    "X = np.concatenate([X_std, X_cat.to_numpy()], axis=1)\n",
    "y = patient_df[\"label\"]\n",
    "print(\"X Standardized data Shape: \", X_std.shape)\n",
    "print(\"X Categorical data shape:  \", X_cat.shape)\n",
    "print(\"X, y shape:                \", X.shape, y.shape)"
   ]
  },
  {
   "cell_type": "code",
   "execution_count": 25,
   "metadata": {},
   "outputs": [],
   "source": [
    "X_train_std, X_test_std, y_train_std, y_test_std = train_test_split(X, y, test_size=0.2, random_state=SEED)"
   ]
  },
  {
   "cell_type": "code",
   "execution_count": 26,
   "metadata": {},
   "outputs": [
    {
     "name": "stdout",
     "output_type": "stream",
     "text": [
      "Counter({0: 6729, 1: 6729, 2: 6729})\n"
     ]
    }
   ],
   "source": [
    "# Resample data to tackle class imbalance\n",
    "oversample = SMOTE()\n",
    "X_sampled_std, y_sampled_std = oversample.fit_resample(X_train_std, y_train_std)\n",
    "\n",
    "# summarize the resampled label distribution\n",
    "counter = Counter(y_sampled_std)\n",
    "print(counter)"
   ]
  },
  {
   "cell_type": "code",
   "execution_count": 27,
   "metadata": {},
   "outputs": [
    {
     "data": {
      "text/plain": [
       "GridSearchCV(cv=5, estimator=LogisticRegression(random_state=90089), n_jobs=6,\n",
       "             param_grid={'C': [0.1, 1, 10], 'max_iter': [100, 500, 1000],\n",
       "                         'penalty': ['l1', 'l2'],\n",
       "                         'solver': ['liblinear', 'saga']})"
      ]
     },
     "execution_count": 27,
     "metadata": {},
     "output_type": "execute_result"
    }
   ],
   "source": [
    "lr_std = LogisticRegression(random_state=SEED)\n",
    "\n",
    "parameters = {\n",
    "    'penalty' : ['l1', 'l2'],\n",
    "    'C'       : [0.1, 1, 10],\n",
    "    'solver'  : ['liblinear', 'saga'], \n",
    "    'max_iter': [100, 500, 1000]}\n",
    "grid_lr_std = GridSearchCV(lr_std, parameters, cv=5, n_jobs=6)\n",
    "grid_lr_std.fit(X_sampled_std, y_sampled_std)"
   ]
  },
  {
   "cell_type": "code",
   "execution_count": 28,
   "metadata": {},
   "outputs": [
    {
     "name": "stdout",
     "output_type": "stream",
     "text": [
      "----         Results from Grid Search           ---\n",
      "\n",
      " The best estimator across ALL searched params:\n",
      " LogisticRegression(C=0.1, penalty='l1', random_state=90089, solver='saga')\n",
      "\n",
      " The best parameters across ALL searched params:\n",
      " {'C': 0.1, 'max_iter': 100, 'penalty': 'l1', 'solver': 'saga'}\n"
     ]
    }
   ],
   "source": [
    "print(\"----         Results from Grid Search           ---\")\n",
    "print(\"\\n The best estimator across ALL searched params:\\n\", grid_lr_std.best_estimator_)\n",
    "print(\"\\n The best parameters across ALL searched params:\\n\", grid_lr_std.best_params_)"
   ]
  },
  {
   "cell_type": "code",
   "execution_count": 30,
   "metadata": {},
   "outputs": [
    {
     "data": {
      "text/plain": [
       "LogisticRegression(C=0.1, n_jobs=8, penalty='l1', random_state=90089,\n",
       "                   solver='saga')"
      ]
     },
     "execution_count": 30,
     "metadata": {},
     "output_type": "execute_result"
    }
   ],
   "source": [
    "best_lr_std = LogisticRegression(C = 0.1,\n",
    "                                penalty = 'l1',\n",
    "                                solver = 'saga',\n",
    "                                random_state=SEED,\n",
    "                                max_iter=100, \n",
    "                                n_jobs=8)\n",
    "best_lr_std.fit(X_sampled_std, y_sampled_std)"
   ]
  },
  {
   "cell_type": "code",
   "execution_count": 31,
   "metadata": {},
   "outputs": [
    {
     "name": "stdout",
     "output_type": "stream",
     "text": [
      "Model Accuracy based on Testing dataset: 0.56621\n"
     ]
    }
   ],
   "source": [
    "print(\"Model Accuracy based on Testing dataset: {:.5f}\".format(best_lr_std.score(X_test_std, y_test_std)))"
   ]
  },
  {
   "cell_type": "code",
   "execution_count": 32,
   "metadata": {},
   "outputs": [
    {
     "name": "stdout",
     "output_type": "stream",
     "text": [
      "              precision    recall  f1-score   support\n",
      "\n",
      "           0       0.68      0.77      0.72      1462\n",
      "           1       0.26      0.32      0.29       520\n",
      "           2       0.58      0.28      0.38       593\n",
      "\n",
      "    accuracy                           0.57      2575\n",
      "   macro avg       0.51      0.46      0.46      2575\n",
      "weighted avg       0.57      0.57      0.55      2575\n",
      "\n"
     ]
    }
   ],
   "source": [
    "y_pred = best_lr_std.predict(X_test_std)\n",
    "print(classification_report(y_pred, y_test))"
   ]
  },
  {
   "cell_type": "code",
   "execution_count": null,
   "metadata": {},
   "outputs": [],
   "source": []
  }
 ],
 "metadata": {
  "kernelspec": {
   "display_name": "Python 3.7.11 ('cv')",
   "language": "python",
   "name": "python3"
  },
  "language_info": {
   "codemirror_mode": {
    "name": "ipython",
    "version": 3
   },
   "file_extension": ".py",
   "mimetype": "text/x-python",
   "name": "python",
   "nbconvert_exporter": "python",
   "pygments_lexer": "ipython3",
   "version": "3.7.11"
  },
  "orig_nbformat": 4,
  "vscode": {
   "interpreter": {
    "hash": "c25497626eb387c829d69d77d2a11d4b3d4e6b3e3b316f5a1837374208b5d84c"
   }
  }
 },
 "nbformat": 4,
 "nbformat_minor": 2
}
