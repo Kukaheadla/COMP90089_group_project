{
 "cells": [
  {
   "cell_type": "code",
   "execution_count": 1,
   "metadata": {},
   "outputs": [],
   "source": [
    "# Load libraries\n",
    "import warnings\n",
    "import numpy as np\n",
    "import pandas as pd\n",
    "import os\n",
    "\n",
    "from collections import Counter\n",
    "from imblearn.over_sampling import SMOTE\n",
    "from sklearn.linear_model import LogisticRegression\n",
    "from sklearn.preprocessing import StandardScaler,label_binarize\n",
    "\n",
    "from sklearn.model_selection import GridSearchCV, StratifiedKFold, cross_val_score, train_test_split\n",
    "from sklearn.exceptions import ConvergenceWarning\n",
    "from sklearn.multiclass import OneVsRestClassifier\n",
    "from sklearn.metrics import classification_report, roc_curve, auc\n",
    "import matplotlib.pyplot as plt\n",
    "SEED = 90089"
   ]
  },
  {
   "cell_type": "code",
   "execution_count": 2,
   "metadata": {},
   "outputs": [],
   "source": [
    "# disable deprecation warnings and convergence warning after production \n",
    "os.environ[\"PYTHONWARNINGS\"] = \"ignore::UserWarning\""
   ]
  },
  {
   "cell_type": "markdown",
   "metadata": {},
   "source": [
    "### `LogisticRegression` Classifier on Hyperclygemic patients"
   ]
  },
  {
   "cell_type": "code",
   "execution_count": 3,
   "metadata": {},
   "outputs": [
    {
     "name": "stdout",
     "output_type": "stream",
     "text": [
      "Dataframe shape:    (13243, 26)\n",
      "Dataframe Features: Index(['glucose_max', 'anchor_age', 'dod', 'gender', 'dbp_mean', 'sbp_mean',\n",
      "       'glucose_mean', 'heart_rate_mean', 'spo2_mean', 'resp_rate_mean',\n",
      "       'temperature_mean', 'apsiii', 'glucose_score', 'avg_bmi_value',\n",
      "       'avg_sofa', 'admission_type', 'label', 'AMBULATORY OBSERVATION',\n",
      "       'DIRECT EMER.', 'DIRECT OBSERVATION', 'ELECTIVE', 'EU OBSERVATION',\n",
      "       'EW EMER.', 'OBSERVATION ADMIT', 'SURGICAL SAME DAY ADMISSION',\n",
      "       'URGENT'],\n",
      "      dtype='object')\n"
     ]
    },
    {
     "data": {
      "text/html": [
       "<div>\n",
       "<style scoped>\n",
       "    .dataframe tbody tr th:only-of-type {\n",
       "        vertical-align: middle;\n",
       "    }\n",
       "\n",
       "    .dataframe tbody tr th {\n",
       "        vertical-align: top;\n",
       "    }\n",
       "\n",
       "    .dataframe thead th {\n",
       "        text-align: right;\n",
       "    }\n",
       "</style>\n",
       "<table border=\"1\" class=\"dataframe\">\n",
       "  <thead>\n",
       "    <tr style=\"text-align: right;\">\n",
       "      <th></th>\n",
       "      <th>glucose_max</th>\n",
       "      <th>anchor_age</th>\n",
       "      <th>dod</th>\n",
       "      <th>gender</th>\n",
       "      <th>dbp_mean</th>\n",
       "      <th>sbp_mean</th>\n",
       "      <th>glucose_mean</th>\n",
       "      <th>heart_rate_mean</th>\n",
       "      <th>spo2_mean</th>\n",
       "      <th>resp_rate_mean</th>\n",
       "      <th>...</th>\n",
       "      <th>label</th>\n",
       "      <th>AMBULATORY OBSERVATION</th>\n",
       "      <th>DIRECT EMER.</th>\n",
       "      <th>DIRECT OBSERVATION</th>\n",
       "      <th>ELECTIVE</th>\n",
       "      <th>EU OBSERVATION</th>\n",
       "      <th>EW EMER.</th>\n",
       "      <th>OBSERVATION ADMIT</th>\n",
       "      <th>SURGICAL SAME DAY ADMISSION</th>\n",
       "      <th>URGENT</th>\n",
       "    </tr>\n",
       "  </thead>\n",
       "  <tbody>\n",
       "    <tr>\n",
       "      <th>0</th>\n",
       "      <td>277.0</td>\n",
       "      <td>36</td>\n",
       "      <td>0</td>\n",
       "      <td>0</td>\n",
       "      <td>64.320000</td>\n",
       "      <td>112.880000</td>\n",
       "      <td>221.272727</td>\n",
       "      <td>101.800000</td>\n",
       "      <td>1.963788</td>\n",
       "      <td>1.239203</td>\n",
       "      <td>...</td>\n",
       "      <td>0</td>\n",
       "      <td>0</td>\n",
       "      <td>0</td>\n",
       "      <td>0</td>\n",
       "      <td>0</td>\n",
       "      <td>0</td>\n",
       "      <td>0</td>\n",
       "      <td>1</td>\n",
       "      <td>0</td>\n",
       "      <td>0</td>\n",
       "    </tr>\n",
       "    <tr>\n",
       "      <th>1</th>\n",
       "      <td>259.0</td>\n",
       "      <td>19</td>\n",
       "      <td>1</td>\n",
       "      <td>1</td>\n",
       "      <td>49.300000</td>\n",
       "      <td>74.200000</td>\n",
       "      <td>259.000000</td>\n",
       "      <td>89.750000</td>\n",
       "      <td>1.845098</td>\n",
       "      <td>1.420506</td>\n",
       "      <td>...</td>\n",
       "      <td>0</td>\n",
       "      <td>0</td>\n",
       "      <td>0</td>\n",
       "      <td>0</td>\n",
       "      <td>0</td>\n",
       "      <td>0</td>\n",
       "      <td>1</td>\n",
       "      <td>0</td>\n",
       "      <td>0</td>\n",
       "      <td>0</td>\n",
       "    </tr>\n",
       "    <tr>\n",
       "      <th>2</th>\n",
       "      <td>406.0</td>\n",
       "      <td>24</td>\n",
       "      <td>0</td>\n",
       "      <td>0</td>\n",
       "      <td>57.333333</td>\n",
       "      <td>92.848485</td>\n",
       "      <td>292.000000</td>\n",
       "      <td>86.631579</td>\n",
       "      <td>1.983004</td>\n",
       "      <td>1.184393</td>\n",
       "      <td>...</td>\n",
       "      <td>2</td>\n",
       "      <td>0</td>\n",
       "      <td>0</td>\n",
       "      <td>0</td>\n",
       "      <td>0</td>\n",
       "      <td>0</td>\n",
       "      <td>1</td>\n",
       "      <td>0</td>\n",
       "      <td>0</td>\n",
       "      <td>0</td>\n",
       "    </tr>\n",
       "    <tr>\n",
       "      <th>3</th>\n",
       "      <td>398.0</td>\n",
       "      <td>31</td>\n",
       "      <td>0</td>\n",
       "      <td>0</td>\n",
       "      <td>78.600000</td>\n",
       "      <td>133.800000</td>\n",
       "      <td>285.000000</td>\n",
       "      <td>100.826087</td>\n",
       "      <td>1.955709</td>\n",
       "      <td>1.400951</td>\n",
       "      <td>...</td>\n",
       "      <td>0</td>\n",
       "      <td>0</td>\n",
       "      <td>0</td>\n",
       "      <td>0</td>\n",
       "      <td>0</td>\n",
       "      <td>0</td>\n",
       "      <td>1</td>\n",
       "      <td>0</td>\n",
       "      <td>0</td>\n",
       "      <td>0</td>\n",
       "    </tr>\n",
       "    <tr>\n",
       "      <th>4</th>\n",
       "      <td>487.0</td>\n",
       "      <td>34</td>\n",
       "      <td>0</td>\n",
       "      <td>1</td>\n",
       "      <td>107.062500</td>\n",
       "      <td>164.437500</td>\n",
       "      <td>235.777778</td>\n",
       "      <td>77.000000</td>\n",
       "      <td>1.996731</td>\n",
       "      <td>1.398870</td>\n",
       "      <td>...</td>\n",
       "      <td>2</td>\n",
       "      <td>0</td>\n",
       "      <td>0</td>\n",
       "      <td>0</td>\n",
       "      <td>0</td>\n",
       "      <td>0</td>\n",
       "      <td>0</td>\n",
       "      <td>0</td>\n",
       "      <td>0</td>\n",
       "      <td>1</td>\n",
       "    </tr>\n",
       "  </tbody>\n",
       "</table>\n",
       "<p>5 rows × 26 columns</p>\n",
       "</div>"
      ],
      "text/plain": [
       "   glucose_max  anchor_age  dod  gender    dbp_mean    sbp_mean  glucose_mean  \\\n",
       "0        277.0          36    0       0   64.320000  112.880000    221.272727   \n",
       "1        259.0          19    1       1   49.300000   74.200000    259.000000   \n",
       "2        406.0          24    0       0   57.333333   92.848485    292.000000   \n",
       "3        398.0          31    0       0   78.600000  133.800000    285.000000   \n",
       "4        487.0          34    0       1  107.062500  164.437500    235.777778   \n",
       "\n",
       "   heart_rate_mean  spo2_mean  resp_rate_mean  ...  label  \\\n",
       "0       101.800000   1.963788        1.239203  ...      0   \n",
       "1        89.750000   1.845098        1.420506  ...      0   \n",
       "2        86.631579   1.983004        1.184393  ...      2   \n",
       "3       100.826087   1.955709        1.400951  ...      0   \n",
       "4        77.000000   1.996731        1.398870  ...      2   \n",
       "\n",
       "   AMBULATORY OBSERVATION  DIRECT EMER.  DIRECT OBSERVATION  ELECTIVE  \\\n",
       "0                       0             0                   0         0   \n",
       "1                       0             0                   0         0   \n",
       "2                       0             0                   0         0   \n",
       "3                       0             0                   0         0   \n",
       "4                       0             0                   0         0   \n",
       "\n",
       "  EU OBSERVATION  EW EMER.  OBSERVATION ADMIT  SURGICAL SAME DAY ADMISSION  \\\n",
       "0              0         0                  1                            0   \n",
       "1              0         1                  0                            0   \n",
       "2              0         1                  0                            0   \n",
       "3              0         1                  0                            0   \n",
       "4              0         0                  0                            0   \n",
       "\n",
       "   URGENT  \n",
       "0       0  \n",
       "1       0  \n",
       "2       0  \n",
       "3       0  \n",
       "4       1  \n",
       "\n",
       "[5 rows x 26 columns]"
      ]
     },
     "execution_count": 3,
     "metadata": {},
     "output_type": "execute_result"
    }
   ],
   "source": [
    "# Read data\n",
    "patient_df = pd.read_csv('../data/hyperglycemic_patients_w_bin_categories.csv', index_col=0)\n",
    "patient_df = patient_df.drop(['los'], axis=1)\n",
    "\n",
    "# Previewing data\n",
    "print(\"Dataframe shape:   \", patient_df.shape)\n",
    "print(\"Dataframe Features:\", patient_df.columns)\n",
    "patient_df.head()"
   ]
  },
  {
   "cell_type": "code",
   "execution_count": 39,
   "metadata": {},
   "outputs": [
    {
     "name": "stdout",
     "output_type": "stream",
     "text": [
      "Null value in Feature set summary:\n",
      " glucose_max                    0\n",
      "anchor_age                     0\n",
      "dod                            0\n",
      "gender                         0\n",
      "dbp_mean                       0\n",
      "sbp_mean                       0\n",
      "glucose_mean                   0\n",
      "heart_rate_mean                0\n",
      "spo2_mean                      0\n",
      "resp_rate_mean                 0\n",
      "temperature_mean               0\n",
      "apsiii                         0\n",
      "glucose_score                  0\n",
      "avg_bmi_value                  0\n",
      "avg_sofa                       0\n",
      "admission_type                 0\n",
      "label                          0\n",
      "AMBULATORY OBSERVATION         0\n",
      "DIRECT EMER.                   0\n",
      "DIRECT OBSERVATION             0\n",
      "ELECTIVE                       0\n",
      "EU OBSERVATION                 0\n",
      "EW EMER.                       0\n",
      "OBSERVATION ADMIT              0\n",
      "SURGICAL SAME DAY ADMISSION    0\n",
      "URGENT                         0\n",
      "dtype: int64 \n",
      " ------------------------------\n"
     ]
    }
   ],
   "source": [
    "print(\"Null value in Feature set summary:\\n\",patient_df.isnull().sum(), \"\\n\",\"--\"*15)"
   ]
  },
  {
   "cell_type": "markdown",
   "metadata": {},
   "source": [
    "### LR without `StandardScaler`"
   ]
  },
  {
   "cell_type": "code",
   "execution_count": 40,
   "metadata": {},
   "outputs": [],
   "source": [
    "# Data split\n",
    "X = patient_df.loc[:, patient_df.columns != 'label']\n",
    "y = patient_df.iloc[:, -1]\n",
    "X_train, X_test, y_train, y_test = train_test_split(X, y, test_size=0.2, random_state=SEED)"
   ]
  },
  {
   "cell_type": "code",
   "execution_count": 41,
   "metadata": {},
   "outputs": [
    {
     "ename": "ValueError",
     "evalue": "could not convert string to float: 'EW EMER.'",
     "output_type": "error",
     "traceback": [
      "\u001b[1;31m---------------------------------------------------------------------------\u001b[0m",
      "\u001b[1;31mValueError\u001b[0m                                Traceback (most recent call last)",
      "\u001b[1;32mC:\\Users\\GOD_OF~1\\AppData\\Local\\Temp/ipykernel_42076/1177487163.py\u001b[0m in \u001b[0;36m<module>\u001b[1;34m\u001b[0m\n\u001b[0;32m      1\u001b[0m \u001b[1;31m# Resample data to tackle class imbalance\u001b[0m\u001b[1;33m\u001b[0m\u001b[1;33m\u001b[0m\u001b[1;33m\u001b[0m\u001b[0m\n\u001b[0;32m      2\u001b[0m \u001b[0moversample\u001b[0m \u001b[1;33m=\u001b[0m \u001b[0mSMOTE\u001b[0m\u001b[1;33m(\u001b[0m\u001b[1;33m)\u001b[0m\u001b[1;33m\u001b[0m\u001b[1;33m\u001b[0m\u001b[0m\n\u001b[1;32m----> 3\u001b[1;33m \u001b[0mX_sampled\u001b[0m\u001b[1;33m,\u001b[0m \u001b[0my_sampled\u001b[0m \u001b[1;33m=\u001b[0m \u001b[0moversample\u001b[0m\u001b[1;33m.\u001b[0m\u001b[0mfit_resample\u001b[0m\u001b[1;33m(\u001b[0m\u001b[0mX_train\u001b[0m\u001b[1;33m,\u001b[0m \u001b[0my_train\u001b[0m\u001b[1;33m)\u001b[0m\u001b[1;33m\u001b[0m\u001b[1;33m\u001b[0m\u001b[0m\n\u001b[0m\u001b[0;32m      4\u001b[0m \u001b[1;33m\u001b[0m\u001b[0m\n\u001b[0;32m      5\u001b[0m \u001b[1;31m# summarize the resampled label distribution\u001b[0m\u001b[1;33m\u001b[0m\u001b[1;33m\u001b[0m\u001b[1;33m\u001b[0m\u001b[0m\n",
      "\u001b[1;32md:\\miniconda3\\envs\\cv\\lib\\site-packages\\imblearn\\base.py\u001b[0m in \u001b[0;36mfit_resample\u001b[1;34m(self, X, y)\u001b[0m\n\u001b[0;32m     75\u001b[0m         \u001b[0mcheck_classification_targets\u001b[0m\u001b[1;33m(\u001b[0m\u001b[0my\u001b[0m\u001b[1;33m)\u001b[0m\u001b[1;33m\u001b[0m\u001b[1;33m\u001b[0m\u001b[0m\n\u001b[0;32m     76\u001b[0m         \u001b[0marrays_transformer\u001b[0m \u001b[1;33m=\u001b[0m \u001b[0mArraysTransformer\u001b[0m\u001b[1;33m(\u001b[0m\u001b[0mX\u001b[0m\u001b[1;33m,\u001b[0m \u001b[0my\u001b[0m\u001b[1;33m)\u001b[0m\u001b[1;33m\u001b[0m\u001b[1;33m\u001b[0m\u001b[0m\n\u001b[1;32m---> 77\u001b[1;33m         \u001b[0mX\u001b[0m\u001b[1;33m,\u001b[0m \u001b[0my\u001b[0m\u001b[1;33m,\u001b[0m \u001b[0mbinarize_y\u001b[0m \u001b[1;33m=\u001b[0m \u001b[0mself\u001b[0m\u001b[1;33m.\u001b[0m\u001b[0m_check_X_y\u001b[0m\u001b[1;33m(\u001b[0m\u001b[0mX\u001b[0m\u001b[1;33m,\u001b[0m \u001b[0my\u001b[0m\u001b[1;33m)\u001b[0m\u001b[1;33m\u001b[0m\u001b[1;33m\u001b[0m\u001b[0m\n\u001b[0m\u001b[0;32m     78\u001b[0m \u001b[1;33m\u001b[0m\u001b[0m\n\u001b[0;32m     79\u001b[0m         self.sampling_strategy_ = check_sampling_strategy(\n",
      "\u001b[1;32md:\\miniconda3\\envs\\cv\\lib\\site-packages\\imblearn\\base.py\u001b[0m in \u001b[0;36m_check_X_y\u001b[1;34m(self, X, y, accept_sparse)\u001b[0m\n\u001b[0;32m    133\u001b[0m         \u001b[0my\u001b[0m\u001b[1;33m,\u001b[0m \u001b[0mbinarize_y\u001b[0m \u001b[1;33m=\u001b[0m \u001b[0mcheck_target_type\u001b[0m\u001b[1;33m(\u001b[0m\u001b[0my\u001b[0m\u001b[1;33m,\u001b[0m \u001b[0mindicate_one_vs_all\u001b[0m\u001b[1;33m=\u001b[0m\u001b[1;32mTrue\u001b[0m\u001b[1;33m)\u001b[0m\u001b[1;33m\u001b[0m\u001b[1;33m\u001b[0m\u001b[0m\n\u001b[0;32m    134\u001b[0m         X, y = self._validate_data(\n\u001b[1;32m--> 135\u001b[1;33m             \u001b[0mX\u001b[0m\u001b[1;33m,\u001b[0m \u001b[0my\u001b[0m\u001b[1;33m,\u001b[0m \u001b[0mreset\u001b[0m\u001b[1;33m=\u001b[0m\u001b[1;32mTrue\u001b[0m\u001b[1;33m,\u001b[0m \u001b[0maccept_sparse\u001b[0m\u001b[1;33m=\u001b[0m\u001b[0maccept_sparse\u001b[0m\u001b[1;33m\u001b[0m\u001b[1;33m\u001b[0m\u001b[0m\n\u001b[0m\u001b[0;32m    136\u001b[0m         )\n\u001b[0;32m    137\u001b[0m         \u001b[1;32mreturn\u001b[0m \u001b[0mX\u001b[0m\u001b[1;33m,\u001b[0m \u001b[0my\u001b[0m\u001b[1;33m,\u001b[0m \u001b[0mbinarize_y\u001b[0m\u001b[1;33m\u001b[0m\u001b[1;33m\u001b[0m\u001b[0m\n",
      "\u001b[1;32md:\\miniconda3\\envs\\cv\\lib\\site-packages\\sklearn\\base.py\u001b[0m in \u001b[0;36m_validate_data\u001b[1;34m(self, X, y, reset, validate_separately, **check_params)\u001b[0m\n\u001b[0;32m    579\u001b[0m                 \u001b[0my\u001b[0m \u001b[1;33m=\u001b[0m \u001b[0mcheck_array\u001b[0m\u001b[1;33m(\u001b[0m\u001b[0my\u001b[0m\u001b[1;33m,\u001b[0m \u001b[1;33m**\u001b[0m\u001b[0mcheck_y_params\u001b[0m\u001b[1;33m)\u001b[0m\u001b[1;33m\u001b[0m\u001b[1;33m\u001b[0m\u001b[0m\n\u001b[0;32m    580\u001b[0m             \u001b[1;32melse\u001b[0m\u001b[1;33m:\u001b[0m\u001b[1;33m\u001b[0m\u001b[1;33m\u001b[0m\u001b[0m\n\u001b[1;32m--> 581\u001b[1;33m                 \u001b[0mX\u001b[0m\u001b[1;33m,\u001b[0m \u001b[0my\u001b[0m \u001b[1;33m=\u001b[0m \u001b[0mcheck_X_y\u001b[0m\u001b[1;33m(\u001b[0m\u001b[0mX\u001b[0m\u001b[1;33m,\u001b[0m \u001b[0my\u001b[0m\u001b[1;33m,\u001b[0m \u001b[1;33m**\u001b[0m\u001b[0mcheck_params\u001b[0m\u001b[1;33m)\u001b[0m\u001b[1;33m\u001b[0m\u001b[1;33m\u001b[0m\u001b[0m\n\u001b[0m\u001b[0;32m    582\u001b[0m             \u001b[0mout\u001b[0m \u001b[1;33m=\u001b[0m \u001b[0mX\u001b[0m\u001b[1;33m,\u001b[0m \u001b[0my\u001b[0m\u001b[1;33m\u001b[0m\u001b[1;33m\u001b[0m\u001b[0m\n\u001b[0;32m    583\u001b[0m \u001b[1;33m\u001b[0m\u001b[0m\n",
      "\u001b[1;32md:\\miniconda3\\envs\\cv\\lib\\site-packages\\sklearn\\utils\\validation.py\u001b[0m in \u001b[0;36mcheck_X_y\u001b[1;34m(X, y, accept_sparse, accept_large_sparse, dtype, order, copy, force_all_finite, ensure_2d, allow_nd, multi_output, ensure_min_samples, ensure_min_features, y_numeric, estimator)\u001b[0m\n\u001b[0;32m    974\u001b[0m         \u001b[0mensure_min_samples\u001b[0m\u001b[1;33m=\u001b[0m\u001b[0mensure_min_samples\u001b[0m\u001b[1;33m,\u001b[0m\u001b[1;33m\u001b[0m\u001b[1;33m\u001b[0m\u001b[0m\n\u001b[0;32m    975\u001b[0m         \u001b[0mensure_min_features\u001b[0m\u001b[1;33m=\u001b[0m\u001b[0mensure_min_features\u001b[0m\u001b[1;33m,\u001b[0m\u001b[1;33m\u001b[0m\u001b[1;33m\u001b[0m\u001b[0m\n\u001b[1;32m--> 976\u001b[1;33m         \u001b[0mestimator\u001b[0m\u001b[1;33m=\u001b[0m\u001b[0mestimator\u001b[0m\u001b[1;33m,\u001b[0m\u001b[1;33m\u001b[0m\u001b[1;33m\u001b[0m\u001b[0m\n\u001b[0m\u001b[0;32m    977\u001b[0m     )\n\u001b[0;32m    978\u001b[0m \u001b[1;33m\u001b[0m\u001b[0m\n",
      "\u001b[1;32md:\\miniconda3\\envs\\cv\\lib\\site-packages\\sklearn\\utils\\validation.py\u001b[0m in \u001b[0;36mcheck_array\u001b[1;34m(array, accept_sparse, accept_large_sparse, dtype, order, copy, force_all_finite, ensure_2d, allow_nd, ensure_min_samples, ensure_min_features, estimator)\u001b[0m\n\u001b[0;32m    744\u001b[0m                     \u001b[0marray\u001b[0m \u001b[1;33m=\u001b[0m \u001b[0marray\u001b[0m\u001b[1;33m.\u001b[0m\u001b[0mastype\u001b[0m\u001b[1;33m(\u001b[0m\u001b[0mdtype\u001b[0m\u001b[1;33m,\u001b[0m \u001b[0mcasting\u001b[0m\u001b[1;33m=\u001b[0m\u001b[1;34m\"unsafe\"\u001b[0m\u001b[1;33m,\u001b[0m \u001b[0mcopy\u001b[0m\u001b[1;33m=\u001b[0m\u001b[1;32mFalse\u001b[0m\u001b[1;33m)\u001b[0m\u001b[1;33m\u001b[0m\u001b[1;33m\u001b[0m\u001b[0m\n\u001b[0;32m    745\u001b[0m                 \u001b[1;32melse\u001b[0m\u001b[1;33m:\u001b[0m\u001b[1;33m\u001b[0m\u001b[1;33m\u001b[0m\u001b[0m\n\u001b[1;32m--> 746\u001b[1;33m                     \u001b[0marray\u001b[0m \u001b[1;33m=\u001b[0m \u001b[0mnp\u001b[0m\u001b[1;33m.\u001b[0m\u001b[0masarray\u001b[0m\u001b[1;33m(\u001b[0m\u001b[0marray\u001b[0m\u001b[1;33m,\u001b[0m \u001b[0morder\u001b[0m\u001b[1;33m=\u001b[0m\u001b[0morder\u001b[0m\u001b[1;33m,\u001b[0m \u001b[0mdtype\u001b[0m\u001b[1;33m=\u001b[0m\u001b[0mdtype\u001b[0m\u001b[1;33m)\u001b[0m\u001b[1;33m\u001b[0m\u001b[1;33m\u001b[0m\u001b[0m\n\u001b[0m\u001b[0;32m    747\u001b[0m             \u001b[1;32mexcept\u001b[0m \u001b[0mComplexWarning\u001b[0m \u001b[1;32mas\u001b[0m \u001b[0mcomplex_warning\u001b[0m\u001b[1;33m:\u001b[0m\u001b[1;33m\u001b[0m\u001b[1;33m\u001b[0m\u001b[0m\n\u001b[0;32m    748\u001b[0m                 raise ValueError(\n",
      "\u001b[1;32md:\\miniconda3\\envs\\cv\\lib\\site-packages\\pandas\\core\\generic.py\u001b[0m in \u001b[0;36m__array__\u001b[1;34m(self, dtype)\u001b[0m\n\u001b[0;32m   1988\u001b[0m \u001b[1;33m\u001b[0m\u001b[0m\n\u001b[0;32m   1989\u001b[0m     \u001b[1;32mdef\u001b[0m \u001b[0m__array__\u001b[0m\u001b[1;33m(\u001b[0m\u001b[0mself\u001b[0m\u001b[1;33m,\u001b[0m \u001b[0mdtype\u001b[0m\u001b[1;33m:\u001b[0m \u001b[0mNpDtype\u001b[0m \u001b[1;33m|\u001b[0m \u001b[1;32mNone\u001b[0m \u001b[1;33m=\u001b[0m \u001b[1;32mNone\u001b[0m\u001b[1;33m)\u001b[0m \u001b[1;33m->\u001b[0m \u001b[0mnp\u001b[0m\u001b[1;33m.\u001b[0m\u001b[0mndarray\u001b[0m\u001b[1;33m:\u001b[0m\u001b[1;33m\u001b[0m\u001b[1;33m\u001b[0m\u001b[0m\n\u001b[1;32m-> 1990\u001b[1;33m         \u001b[1;32mreturn\u001b[0m \u001b[0mnp\u001b[0m\u001b[1;33m.\u001b[0m\u001b[0masarray\u001b[0m\u001b[1;33m(\u001b[0m\u001b[0mself\u001b[0m\u001b[1;33m.\u001b[0m\u001b[0m_values\u001b[0m\u001b[1;33m,\u001b[0m \u001b[0mdtype\u001b[0m\u001b[1;33m=\u001b[0m\u001b[0mdtype\u001b[0m\u001b[1;33m)\u001b[0m\u001b[1;33m\u001b[0m\u001b[1;33m\u001b[0m\u001b[0m\n\u001b[0m\u001b[0;32m   1991\u001b[0m \u001b[1;33m\u001b[0m\u001b[0m\n\u001b[0;32m   1992\u001b[0m     def __array_wrap__(\n",
      "\u001b[1;31mValueError\u001b[0m: could not convert string to float: 'EW EMER.'"
     ]
    }
   ],
   "source": [
    "# Resample data to tackle class imbalance\n",
    "oversample = SMOTE()\n",
    "X_sampled, y_sampled = oversample.fit_resample(X_train, y_train)\n",
    "\n",
    "# summarize the resampled label distribution\n",
    "counter = Counter(y_sampled)\n",
    "print(counter)"
   ]
  },
  {
   "cell_type": "code",
   "execution_count": 42,
   "metadata": {},
   "outputs": [
    {
     "ename": "NameError",
     "evalue": "name 'X_sampled' is not defined",
     "output_type": "error",
     "traceback": [
      "\u001b[1;31m---------------------------------------------------------------------------\u001b[0m",
      "\u001b[1;31mNameError\u001b[0m                                 Traceback (most recent call last)",
      "\u001b[1;32mC:\\Users\\GOD_OF~1\\AppData\\Local\\Temp/ipykernel_42076/2069752391.py\u001b[0m in \u001b[0;36m<module>\u001b[1;34m\u001b[0m\n\u001b[0;32m      8\u001b[0m     'max_iter': [500, 1000]}\n\u001b[0;32m      9\u001b[0m \u001b[0mgrid_lr\u001b[0m \u001b[1;33m=\u001b[0m \u001b[0mGridSearchCV\u001b[0m\u001b[1;33m(\u001b[0m\u001b[0mlr\u001b[0m\u001b[1;33m,\u001b[0m \u001b[0mparameters\u001b[0m\u001b[1;33m,\u001b[0m \u001b[0mcv\u001b[0m\u001b[1;33m=\u001b[0m\u001b[1;36m5\u001b[0m\u001b[1;33m,\u001b[0m \u001b[0mn_jobs\u001b[0m\u001b[1;33m=\u001b[0m\u001b[1;36m8\u001b[0m\u001b[1;33m)\u001b[0m\u001b[1;33m\u001b[0m\u001b[1;33m\u001b[0m\u001b[0m\n\u001b[1;32m---> 10\u001b[1;33m \u001b[0mgrid_lr\u001b[0m\u001b[1;33m.\u001b[0m\u001b[0mfit\u001b[0m\u001b[1;33m(\u001b[0m\u001b[0mX_sampled\u001b[0m\u001b[1;33m,\u001b[0m \u001b[0my_sampled\u001b[0m\u001b[1;33m)\u001b[0m\u001b[1;33m\u001b[0m\u001b[1;33m\u001b[0m\u001b[0m\n\u001b[0m",
      "\u001b[1;31mNameError\u001b[0m: name 'X_sampled' is not defined"
     ]
    }
   ],
   "source": [
    "# Tune model with stratifiedKFold cross validation\n",
    "lr = LogisticRegression(random_state=SEED)\n",
    "\n",
    "parameters = {\n",
    "    'penalty' : ['l1', 'l2'],\n",
    "    'C'       : [0.1, 1, 10],\n",
    "    'solver'  : ['liblinear', 'saga'], \n",
    "    'max_iter': [500, 1000]}\n",
    "grid_lr = GridSearchCV(lr, parameters, cv=5, n_jobs=8)\n",
    "grid_lr.fit(X_sampled, y_sampled)"
   ]
  },
  {
   "cell_type": "code",
   "execution_count": 43,
   "metadata": {},
   "outputs": [
    {
     "name": "stdout",
     "output_type": "stream",
     "text": [
      "----         Results from Grid Search           ---\n"
     ]
    },
    {
     "ename": "AttributeError",
     "evalue": "'GridSearchCV' object has no attribute 'best_estimator_'",
     "output_type": "error",
     "traceback": [
      "\u001b[1;31m---------------------------------------------------------------------------\u001b[0m",
      "\u001b[1;31mAttributeError\u001b[0m                            Traceback (most recent call last)",
      "\u001b[1;32mC:\\Users\\GOD_OF~1\\AppData\\Local\\Temp/ipykernel_42076/315770254.py\u001b[0m in \u001b[0;36m<module>\u001b[1;34m\u001b[0m\n\u001b[0;32m      1\u001b[0m \u001b[0mprint\u001b[0m\u001b[1;33m(\u001b[0m\u001b[1;34m\"----         Results from Grid Search           ---\"\u001b[0m\u001b[1;33m)\u001b[0m\u001b[1;33m\u001b[0m\u001b[1;33m\u001b[0m\u001b[0m\n\u001b[1;32m----> 2\u001b[1;33m \u001b[0mprint\u001b[0m\u001b[1;33m(\u001b[0m\u001b[1;34m\"\\n The best estimator across ALL searched params:\\n\"\u001b[0m\u001b[1;33m,\u001b[0m \u001b[0mgrid_lr\u001b[0m\u001b[1;33m.\u001b[0m\u001b[0mbest_estimator_\u001b[0m\u001b[1;33m)\u001b[0m\u001b[1;33m\u001b[0m\u001b[1;33m\u001b[0m\u001b[0m\n\u001b[0m\u001b[0;32m      3\u001b[0m \u001b[0mprint\u001b[0m\u001b[1;33m(\u001b[0m\u001b[1;34m\"\\n The best parameters across ALL searched params:\\n\"\u001b[0m\u001b[1;33m,\u001b[0m \u001b[0mgrid_lr\u001b[0m\u001b[1;33m.\u001b[0m\u001b[0mbest_params_\u001b[0m\u001b[1;33m)\u001b[0m\u001b[1;33m\u001b[0m\u001b[1;33m\u001b[0m\u001b[0m\n",
      "\u001b[1;31mAttributeError\u001b[0m: 'GridSearchCV' object has no attribute 'best_estimator_'"
     ]
    }
   ],
   "source": [
    "print(\"----         Results from Grid Search           ---\")\n",
    "print(\"\\n The best estimator across ALL searched params:\\n\", grid_lr.best_estimator_)\n",
    "print(\"\\n The best parameters across ALL searched params:\\n\", grid_lr.best_params_)"
   ]
  },
  {
   "cell_type": "code",
   "execution_count": 44,
   "metadata": {},
   "outputs": [],
   "source": [
    "best_lr = LogisticRegression(C=1,\n",
    "                            penalty='l1',\n",
    "                            solver='liblinear',\n",
    "                            random_state=SEED,\n",
    "                            max_iter=500,\n",
    "                            n_jobs=8)"
   ]
  },
  {
   "cell_type": "code",
   "execution_count": 45,
   "metadata": {},
   "outputs": [
    {
     "ename": "NameError",
     "evalue": "name 'X_sampled' is not defined",
     "output_type": "error",
     "traceback": [
      "\u001b[1;31m---------------------------------------------------------------------------\u001b[0m",
      "\u001b[1;31mNameError\u001b[0m                                 Traceback (most recent call last)",
      "\u001b[1;32mC:\\Users\\GOD_OF~1\\AppData\\Local\\Temp/ipykernel_42076/2909920540.py\u001b[0m in \u001b[0;36m<module>\u001b[1;34m\u001b[0m\n\u001b[1;32m----> 1\u001b[1;33m \u001b[0mbest_lr\u001b[0m\u001b[1;33m.\u001b[0m\u001b[0mfit\u001b[0m\u001b[1;33m(\u001b[0m\u001b[0mX_sampled\u001b[0m\u001b[1;33m,\u001b[0m \u001b[0my_sampled\u001b[0m\u001b[1;33m)\u001b[0m\u001b[1;33m\u001b[0m\u001b[1;33m\u001b[0m\u001b[0m\n\u001b[0m",
      "\u001b[1;31mNameError\u001b[0m: name 'X_sampled' is not defined"
     ]
    }
   ],
   "source": [
    "best_lr.fit(X_sampled, y_sampled)"
   ]
  },
  {
   "cell_type": "code",
   "execution_count": 23,
   "metadata": {},
   "outputs": [
    {
     "name": "stdout",
     "output_type": "stream",
     "text": [
      "Model Accuracy based on Testing dataset: 0.56777\n"
     ]
    }
   ],
   "source": [
    "print(\"Model Accuracy based on Testing dataset: {:.5f}\".format(best_lr.score(X_test, y_test)))"
   ]
  },
  {
   "cell_type": "markdown",
   "metadata": {},
   "source": [
    "### LR Model with `StandardScaler`"
   ]
  },
  {
   "cell_type": "code",
   "execution_count": 4,
   "metadata": {},
   "outputs": [
    {
     "name": "stdout",
     "output_type": "stream",
     "text": [
      "X Standardized data Shape:  (13243, 12)\n",
      "X Categorical data shape:   (13243, 10)\n",
      "X, y shape:                 (13243, 22) (13243,)\n"
     ]
    }
   ],
   "source": [
    "numerical_features = ['glucose_max', 'anchor_age', 'dbp_mean', 'sbp_mean',\n",
    "       'glucose_mean', 'heart_rate_mean', 'spo2_mean', 'resp_rate_mean',\n",
    "       'temperature_mean', 'apsiii', 'glucose_score', 'avg_sofa']\n",
    "\n",
    "\n",
    "# Standardized variable for consistent measurement across numerical values\n",
    "scaler = StandardScaler()\n",
    "X_std = scaler.fit_transform(patient_df[numerical_features])\n",
    "\n",
    "# Interpolate categorical variables\n",
    "X_cat = patient_df[['gender', 'AMBULATORY OBSERVATION',\n",
    "       'DIRECT EMER.', 'DIRECT OBSERVATION', 'ELECTIVE', 'EU OBSERVATION',\n",
    "       'EW EMER.', 'OBSERVATION ADMIT', 'SURGICAL SAME DAY ADMISSION',\n",
    "       'URGENT']]\n",
    "\n",
    "\n",
    "X = np.concatenate([X_std, X_cat.to_numpy()], axis=1)\n",
    "y = patient_df[\"label\"]\n",
    "print(\"X Standardized data Shape: \", X_std.shape)\n",
    "print(\"X Categorical data shape:  \", X_cat.shape)\n",
    "print(\"X, y shape:                \", X.shape, y.shape)"
   ]
  },
  {
   "cell_type": "code",
   "execution_count": 5,
   "metadata": {},
   "outputs": [],
   "source": [
    "X_train_std, X_test_std, y_train_std, y_test_std = train_test_split(X, y, test_size=0.2, random_state=SEED)"
   ]
  },
  {
   "cell_type": "code",
   "execution_count": 6,
   "metadata": {},
   "outputs": [
    {
     "name": "stdout",
     "output_type": "stream",
     "text": [
      "Counter({0: 6585, 1: 2543, 2: 1466})\n"
     ]
    }
   ],
   "source": [
    "counter = Counter(y_train_std)\n",
    "print(counter)"
   ]
  },
  {
   "cell_type": "code",
   "execution_count": 7,
   "metadata": {},
   "outputs": [
    {
     "name": "stdout",
     "output_type": "stream",
     "text": [
      "Counter({0: 6585, 1: 6585, 2: 6585})\n"
     ]
    }
   ],
   "source": [
    "# Resample data to tackle class imbalance\n",
    "oversample = SMOTE()\n",
    "X_sampled_std, y_sampled_std = oversample.fit_resample(X_train_std, y_train_std)\n",
    "\n",
    "# summarize the resampled label distribution\n",
    "counter = Counter(y_sampled_std)\n",
    "print(counter)"
   ]
  },
  {
   "cell_type": "code",
   "execution_count": 40,
   "metadata": {},
   "outputs": [
    {
     "data": {
      "text/plain": [
       "GridSearchCV(cv=5, estimator=LogisticRegression(random_state=90089), n_jobs=6,\n",
       "             param_grid={'C': [0.1, 1, 10], 'max_iter': [100, 500],\n",
       "                         'penalty': ['l1', 'l2'],\n",
       "                         'solver': ['liblinear', 'saga']})"
      ]
     },
     "execution_count": 40,
     "metadata": {},
     "output_type": "execute_result"
    }
   ],
   "source": [
    "lr_std = LogisticRegression(random_state=SEED)\n",
    "\n",
    "parameters = {\n",
    "    'penalty' : ['l1', 'l2'],\n",
    "    'C'       : [0.1, 1, 10],\n",
    "    'solver'  : ['liblinear', 'saga'], \n",
    "    'max_iter': [100, 500]}\n",
    "grid_lr_std = GridSearchCV(lr_std, parameters, cv=5, n_jobs=6)\n",
    "grid_lr_std.fit(X_sampled_std, y_sampled_std)"
   ]
  },
  {
   "cell_type": "code",
   "execution_count": 41,
   "metadata": {},
   "outputs": [
    {
     "name": "stdout",
     "output_type": "stream",
     "text": [
      "----         Results from Grid Search           ---\n",
      "\n",
      " The best estimator across ALL searched params:\n",
      " LogisticRegression(C=0.1, penalty='l1', random_state=90089, solver='saga')\n",
      "\n",
      " The best parameters across ALL searched params:\n",
      " {'C': 0.1, 'max_iter': 100, 'penalty': 'l1', 'solver': 'saga'}\n"
     ]
    }
   ],
   "source": [
    "print(\"----         Results from Grid Search           ---\")\n",
    "print(\"\\n The best estimator across ALL searched params:\\n\", grid_lr_std.best_estimator_)\n",
    "print(\"\\n The best parameters across ALL searched params:\\n\", grid_lr_std.best_params_)"
   ]
  },
  {
   "cell_type": "code",
   "execution_count": 8,
   "metadata": {},
   "outputs": [
    {
     "name": "stderr",
     "output_type": "stream",
     "text": [
      "d:\\miniconda3\\envs\\cv\\lib\\site-packages\\sklearn\\linear_model\\_sag.py:354: ConvergenceWarning: The max_iter was reached which means the coef_ did not converge\n",
      "  ConvergenceWarning,\n"
     ]
    },
    {
     "data": {
      "text/plain": [
       "LogisticRegression(C=0.1, n_jobs=8, penalty='l1', random_state=90089,\n",
       "                   solver='saga')"
      ]
     },
     "execution_count": 8,
     "metadata": {},
     "output_type": "execute_result"
    }
   ],
   "source": [
    "best_lr_std = LogisticRegression(C = 0.1,\n",
    "                                penalty = 'l1',\n",
    "                                solver = 'saga',\n",
    "                                random_state=SEED,\n",
    "                                max_iter=100, \n",
    "                                n_jobs=8)\n",
    "best_lr_std.fit(X_sampled_std, y_sampled_std)"
   ]
  },
  {
   "cell_type": "code",
   "execution_count": 9,
   "metadata": {},
   "outputs": [
    {
     "name": "stdout",
     "output_type": "stream",
     "text": [
      "Model Accuracy based on Testing dataset: 0.56625\n"
     ]
    }
   ],
   "source": [
    "print(\"Model Accuracy based on Testing dataset: {:.5f}\".format(best_lr_std.score(X_test_std, y_test_std)))"
   ]
  },
  {
   "cell_type": "code",
   "execution_count": 10,
   "metadata": {},
   "outputs": [
    {
     "name": "stdout",
     "output_type": "stream",
     "text": [
      "              precision    recall  f1-score   support\n",
      "\n",
      "           0       0.80      0.64      0.71      1644\n",
      "           1       0.32      0.33      0.32       635\n",
      "           2       0.35      0.62      0.45       370\n",
      "\n",
      "    accuracy                           0.57      2649\n",
      "   macro avg       0.49      0.53      0.49      2649\n",
      "weighted avg       0.62      0.57      0.58      2649\n",
      "\n"
     ]
    }
   ],
   "source": [
    "y_pred = best_lr_std.predict(X_test_std)\n",
    "print(classification_report(y_test_std, y_pred))"
   ]
  },
  {
   "cell_type": "code",
   "execution_count": 11,
   "metadata": {},
   "outputs": [
    {
     "data": {
      "text/plain": [
       "0.7156322645298762"
      ]
     },
     "execution_count": 11,
     "metadata": {},
     "output_type": "execute_result"
    }
   ],
   "source": [
    "from sklearn.metrics import roc_auc_score\n",
    "roc_auc_score(y_test_std, best_lr_std.predict_proba(X_test_std), multi_class='ovr')"
   ]
  },
  {
   "cell_type": "code",
   "execution_count": 12,
   "metadata": {},
   "outputs": [],
   "source": [
    "N_CLASSES = len(np.unique(patient_df.label))\n",
    "y_train_encoded = label_binarize(y_train_std, classes=[0, 1, 2])\n",
    "y_test_encoded = label_binarize(y_test_std, classes=[0, 1, 2])\n",
    "\n",
    "# lr_clf = RandomForestClassifier(n_estimators=200, \n",
    "#                                 min_samples_split=5,\n",
    "#                                 min_samples_leaf=1,\n",
    "#                                 max_features='log2',\n",
    "#                                 max_depth=20,\n",
    "#                                 random_state=SEED,\n",
    "#                                 n_jobs=4)\n",
    "\n",
    "ovr_clf = OneVsRestClassifier(best_lr_std, n_jobs=2)\n",
    "\n",
    "y_score_encoded = ovr_clf.fit(X_train_std, y_train_encoded).predict_proba(X_test_std)\n",
    "\n",
    "# false-positive, and true-positive rate\n",
    "fp_rate, tp_rate = dict(), dict()\n",
    "roc_auc = dict()\n",
    "\n",
    "for c in range(N_CLASSES):\n",
    "    fp_rate[c], tp_rate[c], _ = roc_curve(y_test_encoded[:, c], y_score_encoded[:, c])\n",
    "    roc_auc[c] = auc(fp_rate[c], tp_rate[c])\n",
    "\n",
    "# compute micro-average ROC curve & area in each area.\n",
    "\n",
    "fp_rate['micro'], tp_rate['micro'], _ = roc_curve(y_test_encoded.ravel(), y_score_encoded.ravel())\n",
    "roc_auc[\"micro\"] = auc(fp_rate['micro'], tp_rate['micro'])"
   ]
  },
  {
   "cell_type": "code",
   "execution_count": 13,
   "metadata": {},
   "outputs": [
    {
     "data": {
      "image/png": "[encoded data removed]",
      "text/plain": [
       "<Figure size 432x288 with 1 Axes>"
      ]
     },
     "metadata": {
      "needs_background": "light"
     },
     "output_type": "display_data"
    }
   ],
   "source": [
    "plt.figure()\n",
    "lw = 2\n",
    "\n",
    "for c in range(N_CLASSES):\n",
    "    plt.plot(\n",
    "        fp_rate[c],\n",
    "        tp_rate[c],\n",
    "        lw=lw,\n",
    "        label=\"ROC curve for label %0.f (area = %0.2f %%)\" %(c, roc_auc[c]*100),\n",
    "    )\n",
    "\n",
    "plt.plot(\n",
    "        fp_rate['micro'],\n",
    "        tp_rate['micro'],\n",
    "        linestyle='dashed',\n",
    "        lw=lw,\n",
    "        label=\"Micro-ROC curve (area = %0.2f %%)\" %(roc_auc['micro']*100),\n",
    "    )\n",
    "\n",
    "plt.plot([0, 1], [0, 1], color=\"navy\", lw=lw, linestyle=\"--\")\n",
    "plt.xlim([0.0, 1.0])\n",
    "plt.ylim([0.0, 1.05])\n",
    "plt.xlabel(\"False Positive Rate\")\n",
    "plt.ylabel(\"True Positive Rate\")\n",
    "plt.legend(loc=\"lower right\")\n",
    "plt.show()"
   ]
  },
  {
   "cell_type": "code",
   "execution_count": 17,
   "metadata": {},
   "outputs": [],
   "source": [
    "from sklearn.metrics import precision_recall_curve\n",
    "from sklearn.metrics import average_precision_score\n",
    "\n",
    "y_score = ovr_clf.decision_function(X_test_std)\n",
    "# For each class\n",
    "precision = dict()\n",
    "recall = dict()\n",
    "average_precision = dict()\n",
    "for i in range(N_CLASSES):\n",
    "    precision[i], recall[i], _ = precision_recall_curve(y_test_encoded[:, i], y_score[:, i])\n",
    "    average_precision[i] = average_precision_score(y_test_encoded[:, i], y_score[:, i])\n",
    "\n",
    "# A \"micro-average\": quantifying score on all classes jointly\n",
    "precision[\"micro\"], recall[\"micro\"], _ = precision_recall_curve(\n",
    "    y_test_encoded.ravel(), y_score.ravel()\n",
    ")\n",
    "average_precision[\"micro\"] = average_precision_score(y_test_encoded, y_score, average=\"micro\")"
   ]
  },
  {
   "cell_type": "code",
   "execution_count": 18,
   "metadata": {},
   "outputs": [
    {
     "data": {
      "image/png": "[encoded data removed]",
      "text/plain": [
       "<Figure size 504x576 with 1 Axes>"
      ]
     },
     "metadata": {
      "needs_background": "light"
     },
     "output_type": "display_data"
    }
   ],
   "source": [
    "from sklearn.metrics import PrecisionRecallDisplay\n",
    "from itertools import cycle\n",
    "\n",
    "colors = cycle([\"navy\", \"turquoise\", \"darkorange\", \"cornflowerblue\", \"teal\"])\n",
    "_, ax = plt.subplots(figsize=(7, 8))\n",
    "display = PrecisionRecallDisplay(\n",
    "    recall=recall[\"micro\"],\n",
    "    precision=precision[\"micro\"],\n",
    "    average_precision=average_precision[\"micro\"],\n",
    ")\n",
    "display.plot(ax=ax, name=\"Micro-average precision-recall\", color=\"gold\")\n",
    "ax.set_title(\"Extension of Precision-Recall curve to multi-class\")\n",
    "for i, color in zip(range(N_CLASSES), colors):\n",
    "    display = PrecisionRecallDisplay(\n",
    "        recall=recall[i],\n",
    "        precision=precision[i],\n",
    "        average_precision=average_precision[i],\n",
    "    )\n",
    "    display.plot(ax=ax, name=f\"Precision-recall for label {i}\", color=color)"
   ]
  },
  {
   "cell_type": "code",
   "execution_count": null,
   "metadata": {},
   "outputs": [],
   "source": []
  }
 ],
 "metadata": {
  "kernelspec": {
   "display_name": "Python 3.7.11 ('cv')",
   "language": "python",
   "name": "python3"
  },
  "language_info": {
   "codemirror_mode": {
    "name": "ipython",
    "version": 3
   },
   "file_extension": ".py",
   "mimetype": "text/x-python",
   "name": "python",
   "nbconvert_exporter": "python",
   "pygments_lexer": "ipython3",
   "version": "3.7.11"
  },
  "orig_nbformat": 4,
  "vscode": {
   "interpreter": {
    "hash": "c25497626eb387c829d69d77d2a11d4b3d4e6b3e3b316f5a1837374208b5d84c"
   }
  }
 },
 "nbformat": 4,
 "nbformat_minor": 2
}
