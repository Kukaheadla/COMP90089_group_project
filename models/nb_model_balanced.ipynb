{
 "cells": [
  {
   "cell_type": "markdown",
   "metadata": {},
   "source": [
    "### `GaussianNB` basedline Model Predictions on balance dataset"
   ]
  },
  {
   "cell_type": "code",
   "execution_count": 2,
   "metadata": {},
   "outputs": [],
   "source": [
    "import numpy as np\n",
    "import pandas as pd\n",
    "import warnings\n",
    "\n",
    "from imblearn.over_sampling import SMOTE\n",
    "\n",
    "from sklearn.model_selection import train_test_split\n",
    "from sklearn.preprocessing import StandardScaler, label_binarize\n",
    "from sklearn.naive_bayes import GaussianNB\n",
    "from sklearn.multiclass import OneVsRestClassifier\n",
    "from sklearn.preprocessing import LabelBinarizer\n",
    "\n",
    "from sklearn.model_selection import RandomizedSearchCV\n",
    "from sklearn.metrics import classification_report, roc_curve, auc\n",
    "import matplotlib.pyplot as plt\n",
    "\n",
    "\n",
    "from collections import Counter\n",
    "\n",
    "SEED=90089"
   ]
  },
  {
   "cell_type": "markdown",
   "metadata": {},
   "source": [
    "### Reading data"
   ]
  },
  {
   "cell_type": "code",
   "execution_count": 6,
   "metadata": {},
   "outputs": [
    {
     "name": "stdout",
     "output_type": "stream",
     "text": [
      "Dataframe shape:    (13243, 27)\n",
      "Dataframe Features: Index(['glucose_max', 'anchor_age', 'dod', 'gender', 'dbp_mean', 'sbp_mean',\n",
      "       'glucose_mean', 'heart_rate_mean', 'spo2_mean', 'resp_rate_mean',\n",
      "       'temperature_mean', 'apsiii', 'glucose_score', 'los', 'avg_bmi_value',\n",
      "       'avg_sofa', 'admission_type', 'label', 'AMBULATORY OBSERVATION',\n",
      "       'DIRECT EMER.', 'DIRECT OBSERVATION', 'ELECTIVE', 'EU OBSERVATION',\n",
      "       'EW EMER.', 'OBSERVATION ADMIT', 'SURGICAL SAME DAY ADMISSION',\n",
      "       'URGENT'],\n",
      "      dtype='object')\n"
     ]
    },
    {
     "data": {
      "text/html": [
       "<div>\n",
       "<style scoped>\n",
       "    .dataframe tbody tr th:only-of-type {\n",
       "        vertical-align: middle;\n",
       "    }\n",
       "\n",
       "    .dataframe tbody tr th {\n",
       "        vertical-align: top;\n",
       "    }\n",
       "\n",
       "    .dataframe thead th {\n",
       "        text-align: right;\n",
       "    }\n",
       "</style>\n",
       "<table border=\"1\" class=\"dataframe\">\n",
       "  <thead>\n",
       "    <tr style=\"text-align: right;\">\n",
       "      <th></th>\n",
       "      <th>glucose_max</th>\n",
       "      <th>anchor_age</th>\n",
       "      <th>dod</th>\n",
       "      <th>gender</th>\n",
       "      <th>dbp_mean</th>\n",
       "      <th>sbp_mean</th>\n",
       "      <th>glucose_mean</th>\n",
       "      <th>heart_rate_mean</th>\n",
       "      <th>spo2_mean</th>\n",
       "      <th>resp_rate_mean</th>\n",
       "      <th>...</th>\n",
       "      <th>label</th>\n",
       "      <th>AMBULATORY OBSERVATION</th>\n",
       "      <th>DIRECT EMER.</th>\n",
       "      <th>DIRECT OBSERVATION</th>\n",
       "      <th>ELECTIVE</th>\n",
       "      <th>EU OBSERVATION</th>\n",
       "      <th>EW EMER.</th>\n",
       "      <th>OBSERVATION ADMIT</th>\n",
       "      <th>SURGICAL SAME DAY ADMISSION</th>\n",
       "      <th>URGENT</th>\n",
       "    </tr>\n",
       "  </thead>\n",
       "  <tbody>\n",
       "    <tr>\n",
       "      <th>0</th>\n",
       "      <td>277.0</td>\n",
       "      <td>36</td>\n",
       "      <td>0</td>\n",
       "      <td>0</td>\n",
       "      <td>64.320000</td>\n",
       "      <td>112.880000</td>\n",
       "      <td>221.272727</td>\n",
       "      <td>101.800000</td>\n",
       "      <td>1.963788</td>\n",
       "      <td>1.239203</td>\n",
       "      <td>...</td>\n",
       "      <td>0</td>\n",
       "      <td>0</td>\n",
       "      <td>0</td>\n",
       "      <td>0</td>\n",
       "      <td>0</td>\n",
       "      <td>0</td>\n",
       "      <td>0</td>\n",
       "      <td>1</td>\n",
       "      <td>0</td>\n",
       "      <td>0</td>\n",
       "    </tr>\n",
       "    <tr>\n",
       "      <th>1</th>\n",
       "      <td>259.0</td>\n",
       "      <td>19</td>\n",
       "      <td>1</td>\n",
       "      <td>1</td>\n",
       "      <td>49.300000</td>\n",
       "      <td>74.200000</td>\n",
       "      <td>259.000000</td>\n",
       "      <td>89.750000</td>\n",
       "      <td>1.845098</td>\n",
       "      <td>1.420506</td>\n",
       "      <td>...</td>\n",
       "      <td>0</td>\n",
       "      <td>0</td>\n",
       "      <td>0</td>\n",
       "      <td>0</td>\n",
       "      <td>0</td>\n",
       "      <td>0</td>\n",
       "      <td>1</td>\n",
       "      <td>0</td>\n",
       "      <td>0</td>\n",
       "      <td>0</td>\n",
       "    </tr>\n",
       "    <tr>\n",
       "      <th>2</th>\n",
       "      <td>406.0</td>\n",
       "      <td>24</td>\n",
       "      <td>0</td>\n",
       "      <td>0</td>\n",
       "      <td>57.333333</td>\n",
       "      <td>92.848485</td>\n",
       "      <td>292.000000</td>\n",
       "      <td>86.631579</td>\n",
       "      <td>1.983004</td>\n",
       "      <td>1.184393</td>\n",
       "      <td>...</td>\n",
       "      <td>2</td>\n",
       "      <td>0</td>\n",
       "      <td>0</td>\n",
       "      <td>0</td>\n",
       "      <td>0</td>\n",
       "      <td>0</td>\n",
       "      <td>1</td>\n",
       "      <td>0</td>\n",
       "      <td>0</td>\n",
       "      <td>0</td>\n",
       "    </tr>\n",
       "    <tr>\n",
       "      <th>3</th>\n",
       "      <td>398.0</td>\n",
       "      <td>31</td>\n",
       "      <td>0</td>\n",
       "      <td>0</td>\n",
       "      <td>78.600000</td>\n",
       "      <td>133.800000</td>\n",
       "      <td>285.000000</td>\n",
       "      <td>100.826087</td>\n",
       "      <td>1.955709</td>\n",
       "      <td>1.400951</td>\n",
       "      <td>...</td>\n",
       "      <td>0</td>\n",
       "      <td>0</td>\n",
       "      <td>0</td>\n",
       "      <td>0</td>\n",
       "      <td>0</td>\n",
       "      <td>0</td>\n",
       "      <td>1</td>\n",
       "      <td>0</td>\n",
       "      <td>0</td>\n",
       "      <td>0</td>\n",
       "    </tr>\n",
       "    <tr>\n",
       "      <th>4</th>\n",
       "      <td>487.0</td>\n",
       "      <td>34</td>\n",
       "      <td>0</td>\n",
       "      <td>1</td>\n",
       "      <td>107.062500</td>\n",
       "      <td>164.437500</td>\n",
       "      <td>235.777778</td>\n",
       "      <td>77.000000</td>\n",
       "      <td>1.996731</td>\n",
       "      <td>1.398870</td>\n",
       "      <td>...</td>\n",
       "      <td>2</td>\n",
       "      <td>0</td>\n",
       "      <td>0</td>\n",
       "      <td>0</td>\n",
       "      <td>0</td>\n",
       "      <td>0</td>\n",
       "      <td>0</td>\n",
       "      <td>0</td>\n",
       "      <td>0</td>\n",
       "      <td>1</td>\n",
       "    </tr>\n",
       "  </tbody>\n",
       "</table>\n",
       "<p>5 rows × 27 columns</p>\n",
       "</div>"
      ],
      "text/plain": [
       "   glucose_max  anchor_age  dod  gender    dbp_mean    sbp_mean  glucose_mean  \\\n",
       "0        277.0          36    0       0   64.320000  112.880000    221.272727   \n",
       "1        259.0          19    1       1   49.300000   74.200000    259.000000   \n",
       "2        406.0          24    0       0   57.333333   92.848485    292.000000   \n",
       "3        398.0          31    0       0   78.600000  133.800000    285.000000   \n",
       "4        487.0          34    0       1  107.062500  164.437500    235.777778   \n",
       "\n",
       "   heart_rate_mean  spo2_mean  resp_rate_mean  ...  label  \\\n",
       "0       101.800000   1.963788        1.239203  ...      0   \n",
       "1        89.750000   1.845098        1.420506  ...      0   \n",
       "2        86.631579   1.983004        1.184393  ...      2   \n",
       "3       100.826087   1.955709        1.400951  ...      0   \n",
       "4        77.000000   1.996731        1.398870  ...      2   \n",
       "\n",
       "   AMBULATORY OBSERVATION  DIRECT EMER.  DIRECT OBSERVATION  ELECTIVE  \\\n",
       "0                       0             0                   0         0   \n",
       "1                       0             0                   0         0   \n",
       "2                       0             0                   0         0   \n",
       "3                       0             0                   0         0   \n",
       "4                       0             0                   0         0   \n",
       "\n",
       "   EU OBSERVATION EW EMER.  OBSERVATION ADMIT  SURGICAL SAME DAY ADMISSION  \\\n",
       "0               0        0                  1                            0   \n",
       "1               0        1                  0                            0   \n",
       "2               0        1                  0                            0   \n",
       "3               0        1                  0                            0   \n",
       "4               0        0                  0                            0   \n",
       "\n",
       "   URGENT  \n",
       "0       0  \n",
       "1       0  \n",
       "2       0  \n",
       "3       0  \n",
       "4       1  \n",
       "\n",
       "[5 rows x 27 columns]"
      ]
     },
     "execution_count": 6,
     "metadata": {},
     "output_type": "execute_result"
    }
   ],
   "source": [
    "# Read Data\n",
    "patient_df = pd.read_csv('../data/hyperglycemic_patients_w_bin_categories.csv', index_col=0)\n",
    "\n",
    "# print detail summary\n",
    "print(\"Dataframe shape:   \", patient_df.shape)\n",
    "print(\"Dataframe Features:\", patient_df.columns)\n",
    "patient_df.head()"
   ]
  },
  {
   "cell_type": "code",
   "execution_count": 7,
   "metadata": {},
   "outputs": [
    {
     "name": "stdout",
     "output_type": "stream",
     "text": [
      "Null value in Feature set summary:\n",
      " glucose_max                    0\n",
      "anchor_age                     0\n",
      "dod                            0\n",
      "gender                         0\n",
      "dbp_mean                       0\n",
      "sbp_mean                       0\n",
      "glucose_mean                   0\n",
      "heart_rate_mean                0\n",
      "spo2_mean                      0\n",
      "resp_rate_mean                 0\n",
      "temperature_mean               0\n",
      "apsiii                         0\n",
      "glucose_score                  0\n",
      "los                            0\n",
      "avg_bmi_value                  0\n",
      "avg_sofa                       0\n",
      "admission_type                 0\n",
      "label                          0\n",
      "AMBULATORY OBSERVATION         0\n",
      "DIRECT EMER.                   0\n",
      "DIRECT OBSERVATION             0\n",
      "ELECTIVE                       0\n",
      "EU OBSERVATION                 0\n",
      "EW EMER.                       0\n",
      "OBSERVATION ADMIT              0\n",
      "SURGICAL SAME DAY ADMISSION    0\n",
      "URGENT                         0\n",
      "dtype: int64 \n",
      " ------------------------------\n"
     ]
    }
   ],
   "source": [
    "print(\"Null value in Feature set summary:\\n\",patient_df.isnull().sum(), \"\\n\",\"--\"*15)\n",
    "# print(\"Label Distirbution:\\n\", patient_df['label'].value_counts())"
   ]
  },
  {
   "cell_type": "code",
   "execution_count": 8,
   "metadata": {},
   "outputs": [
    {
     "name": "stdout",
     "output_type": "stream",
     "text": [
      "Data Cluster Distribution: {8229: 1, 3178: 1, 1836: 1}\n"
     ]
    }
   ],
   "source": [
    "print(\"Data Cluster Distribution:\", dict(Counter(patient_df['label'].value_counts())))"
   ]
  },
  {
   "cell_type": "code",
   "execution_count": 9,
   "metadata": {},
   "outputs": [
    {
     "name": "stdout",
     "output_type": "stream",
     "text": [
      "X Standardized data Shape:  (13243, 12)\n",
      "X Categorical data shape:   (13243, 10)\n",
      "X, y shape:                 (13243, 22) (13243,)\n"
     ]
    }
   ],
   "source": [
    "numerical_features = ['glucose_max', 'anchor_age', 'dbp_mean', \n",
    "                    'sbp_mean', 'glucose_mean', 'heart_rate_mean', 'spo2_mean', \n",
    "                    'resp_rate_mean', 'temperature_mean', 'apsiii', 'glucose_score', 'avg_bmi_value']\n",
    "\n",
    "# Standardized variable for consistent measurement across numerical values\n",
    "scaler = StandardScaler()\n",
    "X_std = scaler.fit_transform(patient_df[numerical_features])\n",
    "\n",
    "# Interpolate categorical variables\n",
    "X_cat = patient_df[['gender', 'AMBULATORY OBSERVATION',\n",
    "       'DIRECT EMER.', 'DIRECT OBSERVATION', 'ELECTIVE', 'EU OBSERVATION',\n",
    "       'EW EMER.', 'OBSERVATION ADMIT', 'SURGICAL SAME DAY ADMISSION',\n",
    "       'URGENT']]\n",
    "\n",
    "\n",
    "X = np.concatenate([X_std, X_cat.to_numpy()], axis=1)\n",
    "y = patient_df[\"label\"]\n",
    "print(\"X Standardized data Shape: \", X_std.shape)\n",
    "print(\"X Categorical data shape:  \", X_cat.shape)\n",
    "print(\"X, y shape:                \", X.shape, y.shape)"
   ]
  },
  {
   "cell_type": "code",
   "execution_count": 10,
   "metadata": {},
   "outputs": [
    {
     "name": "stdout",
     "output_type": "stream",
     "text": [
      "Train data shape:         (10594, 22) (10594,)\n",
      "Test data shape:          (2649, 22) (2649,)\n"
     ]
    }
   ],
   "source": [
    "# Split data based on training \n",
    "X_train, X_test, y_train, y_test = train_test_split(X, y, \n",
    "                                                    train_size=0.8, \n",
    "                                                    random_state=SEED)\n",
    "print(\"Train data shape:        \", X_train.shape, y_train.shape)\n",
    "print(\"Test data shape:         \", X_test.shape, y_test.shape)"
   ]
  },
  {
   "cell_type": "code",
   "execution_count": 11,
   "metadata": {},
   "outputs": [
    {
     "name": "stdout",
     "output_type": "stream",
     "text": [
      "Train label distribution: {0: 6585, 1: 6585, 2: 6585}\n"
     ]
    }
   ],
   "source": [
    "# Resample data to tackle class imbalance\n",
    "oversample = SMOTE()\n",
    "X_train, y_train = oversample.fit_resample(X_train, y_train)\n",
    "\n",
    "# summarize the resampled label distribution\n",
    "print(\"Train label distribution:\", dict(Counter(y_train)))"
   ]
  },
  {
   "cell_type": "markdown",
   "metadata": {},
   "source": [
    "### Model fit and evaluaiton on `GaussianNB` with balanced data"
   ]
  },
  {
   "cell_type": "code",
   "execution_count": 9,
   "metadata": {},
   "outputs": [
    {
     "name": "stdout",
     "output_type": "stream",
     "text": [
      "Model Accuracy based on Testing dataset: 0.17440543601359004\n"
     ]
    }
   ],
   "source": [
    "nb_clf = GaussianNB()\n",
    "nb_clf.fit(X_train, y_train)\n",
    "print(\"Model Accuracy based on Testing dataset:\", nb_clf.score(X_test, y_test))"
   ]
  },
  {
   "cell_type": "code",
   "execution_count": 10,
   "metadata": {},
   "outputs": [
    {
     "name": "stdout",
     "output_type": "stream",
     "text": [
      "              precision    recall  f1-score   support\n",
      "\n",
      "           0       0.88      0.01      0.02      1644\n",
      "           1       0.21      0.21      0.21       635\n",
      "           2       0.16      0.85      0.27       370\n",
      "\n",
      "    accuracy                           0.17      2649\n",
      "   macro avg       0.42      0.36      0.16      2649\n",
      "weighted avg       0.62      0.17      0.10      2649\n",
      "\n"
     ]
    }
   ],
   "source": [
    "y_pred = nb_clf.predict(X_test)\n",
    "print(classification_report(y_test, y_pred))"
   ]
  },
  {
   "cell_type": "markdown",
   "metadata": {},
   "source": [
    "### AUC Score"
   ]
  },
  {
   "cell_type": "code",
   "execution_count": 20,
   "metadata": {},
   "outputs": [],
   "source": [
    "N_CLASSES = len(np.unique(patient_df.label))\n",
    "y_train_encoded = label_binarize(y_train, classes=[0, 1, 2])\n",
    "y_test_encoded = label_binarize(y_test, classes=[0, 1, 2])\n",
    "\n",
    "nb_clf = GaussianNB()\n",
    "\n",
    "ovr_clf = OneVsRestClassifier(nb_clf, n_jobs=2)\n",
    "\n",
    "y_score_encoded = ovr_clf.fit(X_train, y_train_encoded).predict_proba(X_test)\n",
    "\n",
    "# false-positive, and true-positive rate\n",
    "fp_rate, tp_rate = dict(), dict()\n",
    "roc_auc = dict()\n",
    "\n",
    "for c in range(N_CLASSES):\n",
    "    fp_rate[c], tp_rate[c], _ = roc_curve(y_test_encoded[:, c], y_score_encoded[:, c])\n",
    "    roc_auc[c] = auc(fp_rate[c], tp_rate[c])\n",
    "\n",
    "# compute micro-average ROC curve & area in each area.\n",
    "fp_rate['micro'], tp_rate['micro'], _ = roc_curve(y_test_encoded.ravel(), y_score_encoded.ravel())\n",
    "roc_auc[\"micro\"] = auc(fp_rate['micro'], tp_rate['micro'])"
   ]
  },
  {
   "cell_type": "code",
   "execution_count": 26,
   "metadata": {},
   "outputs": [
    {
     "data": {
      "text/plain": [
       "0.3220351319564595"
      ]
     },
     "execution_count": 26,
     "metadata": {},
     "output_type": "execute_result"
    }
   ],
   "source": [
    "roc_auc[\"micro\"]"
   ]
  },
  {
   "cell_type": "code",
   "execution_count": 25,
   "metadata": {},
   "outputs": [
    {
     "data": {
      "image/png": "[encoded data removed]",
      "text/plain": [
       "<Figure size 432x288 with 1 Axes>"
      ]
     },
     "metadata": {
      "needs_background": "light"
     },
     "output_type": "display_data"
    }
   ],
   "source": [
    "plt.figure()\n",
    "lw = 2\n",
    "\n",
    "for c in range(N_CLASSES):\n",
    "    plt.plot(\n",
    "        fp_rate[c],\n",
    "        tp_rate[c],\n",
    "        lw=lw,\n",
    "        label=\"ROC curve for label %0.f (area = %0.2f)\" %(c, roc_auc[c]),\n",
    "    )\n",
    "\n",
    "plt.plot([0, 1], [0, 1], color=\"navy\", lw=lw, linestyle=\"--\")\n",
    "plt.xlim([0.0, 1.0])\n",
    "plt.ylim([0.0, 1.05])\n",
    "plt.xlabel(\"False Positive Rate\")\n",
    "plt.ylabel(\"True Positive Rate\")\n",
    "plt.legend(loc=\"lower right\")\n",
    "plt.show()"
   ]
  },
  {
   "cell_type": "code",
   "execution_count": 17,
   "metadata": {},
   "outputs": [
    {
     "name": "stdout",
     "output_type": "stream",
     "text": [
      "ROC Scores {0: 0.6665495515125105, 1: 0.5262020189382981, 2: 0.69820985970613, 'micro': 0.3216765488119836}\n"
     ]
    }
   ],
   "source": [
    "print(\"ROC Scores\", roc_auc)"
   ]
  },
  {
   "cell_type": "code",
   "execution_count": null,
   "metadata": {},
   "outputs": [],
   "source": []
  }
 ],
 "metadata": {
  "kernelspec": {
   "display_name": "Python 3.8.8 64-bit ('3.8.8')",
   "language": "python",
   "name": "python3"
  },
  "language_info": {
   "codemirror_mode": {
    "name": "ipython",
    "version": 3
   },
   "file_extension": ".py",
   "mimetype": "text/x-python",
   "name": "python",
   "nbconvert_exporter": "python",
   "pygments_lexer": "ipython3",
   "version": "3.8.8"
  },
  "orig_nbformat": 4,
  "vscode": {
   "interpreter": {
    "hash": "7fe293631dbf4e3e938f4425b0bc23001f90f8ce621e843dc3f8b4d5fe727f19"
   }
  }
 },
 "nbformat": 4,
 "nbformat_minor": 2
}
