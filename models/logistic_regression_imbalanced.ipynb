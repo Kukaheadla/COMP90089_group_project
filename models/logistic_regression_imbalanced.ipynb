{
 "cells": [
  {
   "cell_type": "code",
   "execution_count": 1,
   "metadata": {},
   "outputs": [],
   "source": [
    "# Load libraries\n",
    "import warnings\n",
    "import numpy as np\n",
    "import pandas as pd\n",
    "import matplotlib.pyplot as plt\n",
    "from collections import Counter\n",
    "from sklearn.linear_model import LogisticRegression\n",
    "from sklearn.preprocessing import StandardScaler\n",
    "from sklearn.model_selection import GridSearchCV\n",
    "from sklearn.model_selection import StratifiedKFold\n",
    "from sklearn.model_selection import cross_val_score\n",
    "from sklearn.model_selection import train_test_split\n",
    "SEED = 90089"
   ]
  },
  {
   "cell_type": "code",
   "execution_count": 2,
   "metadata": {},
   "outputs": [
    {
     "data": {
      "text/html": [
       "<div>\n",
       "<style scoped>\n",
       "    .dataframe tbody tr th:only-of-type {\n",
       "        vertical-align: middle;\n",
       "    }\n",
       "\n",
       "    .dataframe tbody tr th {\n",
       "        vertical-align: top;\n",
       "    }\n",
       "\n",
       "    .dataframe thead th {\n",
       "        text-align: right;\n",
       "    }\n",
       "</style>\n",
       "<table border=\"1\" class=\"dataframe\">\n",
       "  <thead>\n",
       "    <tr style=\"text-align: right;\">\n",
       "      <th></th>\n",
       "      <th>glucose_max</th>\n",
       "      <th>anchor_age</th>\n",
       "      <th>dod</th>\n",
       "      <th>gender</th>\n",
       "      <th>dbp_mean</th>\n",
       "      <th>sbp_mean</th>\n",
       "      <th>glucose_mean</th>\n",
       "      <th>heart_rate_mean</th>\n",
       "      <th>spo2_mean</th>\n",
       "      <th>resp_rate_mean</th>\n",
       "      <th>temperature_mean</th>\n",
       "      <th>apsiii</th>\n",
       "      <th>glucose_score</th>\n",
       "      <th>avg_bmi_value</th>\n",
       "      <th>label</th>\n",
       "    </tr>\n",
       "  </thead>\n",
       "  <tbody>\n",
       "    <tr>\n",
       "      <th>0</th>\n",
       "      <td>277.0</td>\n",
       "      <td>36</td>\n",
       "      <td>0</td>\n",
       "      <td>0</td>\n",
       "      <td>64.320000</td>\n",
       "      <td>112.880000</td>\n",
       "      <td>221.272727</td>\n",
       "      <td>101.800000</td>\n",
       "      <td>92.000000</td>\n",
       "      <td>17.346154</td>\n",
       "      <td>37.186250</td>\n",
       "      <td>38</td>\n",
       "      <td>3</td>\n",
       "      <td>26.750000</td>\n",
       "      <td>0</td>\n",
       "    </tr>\n",
       "    <tr>\n",
       "      <th>1</th>\n",
       "      <td>2340.0</td>\n",
       "      <td>35</td>\n",
       "      <td>0</td>\n",
       "      <td>0</td>\n",
       "      <td>77.769231</td>\n",
       "      <td>122.961538</td>\n",
       "      <td>468.592593</td>\n",
       "      <td>105.361111</td>\n",
       "      <td>96.093023</td>\n",
       "      <td>19.813953</td>\n",
       "      <td>36.727586</td>\n",
       "      <td>87</td>\n",
       "      <td>5</td>\n",
       "      <td>30.558477</td>\n",
       "      <td>0</td>\n",
       "    </tr>\n",
       "    <tr>\n",
       "      <th>2</th>\n",
       "      <td>531.0</td>\n",
       "      <td>23</td>\n",
       "      <td>1</td>\n",
       "      <td>0</td>\n",
       "      <td>64.169118</td>\n",
       "      <td>119.661765</td>\n",
       "      <td>275.352941</td>\n",
       "      <td>154.028986</td>\n",
       "      <td>83.698413</td>\n",
       "      <td>25.584615</td>\n",
       "      <td>39.725000</td>\n",
       "      <td>158</td>\n",
       "      <td>5</td>\n",
       "      <td>30.558477</td>\n",
       "      <td>1</td>\n",
       "    </tr>\n",
       "    <tr>\n",
       "      <th>3</th>\n",
       "      <td>259.0</td>\n",
       "      <td>19</td>\n",
       "      <td>1</td>\n",
       "      <td>1</td>\n",
       "      <td>49.300000</td>\n",
       "      <td>74.200000</td>\n",
       "      <td>259.000000</td>\n",
       "      <td>89.750000</td>\n",
       "      <td>70.000000</td>\n",
       "      <td>26.333333</td>\n",
       "      <td>31.900000</td>\n",
       "      <td>88</td>\n",
       "      <td>3</td>\n",
       "      <td>30.558477</td>\n",
       "      <td>0</td>\n",
       "    </tr>\n",
       "    <tr>\n",
       "      <th>4</th>\n",
       "      <td>406.0</td>\n",
       "      <td>24</td>\n",
       "      <td>0</td>\n",
       "      <td>0</td>\n",
       "      <td>57.333333</td>\n",
       "      <td>92.848485</td>\n",
       "      <td>292.000000</td>\n",
       "      <td>86.631579</td>\n",
       "      <td>96.162162</td>\n",
       "      <td>15.289474</td>\n",
       "      <td>33.590000</td>\n",
       "      <td>150</td>\n",
       "      <td>5</td>\n",
       "      <td>30.558477</td>\n",
       "      <td>1</td>\n",
       "    </tr>\n",
       "    <tr>\n",
       "      <th>...</th>\n",
       "      <td>...</td>\n",
       "      <td>...</td>\n",
       "      <td>...</td>\n",
       "      <td>...</td>\n",
       "      <td>...</td>\n",
       "      <td>...</td>\n",
       "      <td>...</td>\n",
       "      <td>...</td>\n",
       "      <td>...</td>\n",
       "      <td>...</td>\n",
       "      <td>...</td>\n",
       "      <td>...</td>\n",
       "      <td>...</td>\n",
       "      <td>...</td>\n",
       "      <td>...</td>\n",
       "    </tr>\n",
       "    <tr>\n",
       "      <th>14072</th>\n",
       "      <td>297.0</td>\n",
       "      <td>91</td>\n",
       "      <td>1</td>\n",
       "      <td>0</td>\n",
       "      <td>65.250000</td>\n",
       "      <td>118.214286</td>\n",
       "      <td>142.444444</td>\n",
       "      <td>58.740741</td>\n",
       "      <td>99.925926</td>\n",
       "      <td>15.615385</td>\n",
       "      <td>32.610000</td>\n",
       "      <td>135</td>\n",
       "      <td>3</td>\n",
       "      <td>30.558477</td>\n",
       "      <td>1</td>\n",
       "    </tr>\n",
       "    <tr>\n",
       "      <th>14073</th>\n",
       "      <td>265.0</td>\n",
       "      <td>91</td>\n",
       "      <td>1</td>\n",
       "      <td>0</td>\n",
       "      <td>55.280000</td>\n",
       "      <td>137.200000</td>\n",
       "      <td>203.000000</td>\n",
       "      <td>60.769231</td>\n",
       "      <td>99.800000</td>\n",
       "      <td>15.700000</td>\n",
       "      <td>37.008571</td>\n",
       "      <td>86</td>\n",
       "      <td>3</td>\n",
       "      <td>30.558477</td>\n",
       "      <td>1</td>\n",
       "    </tr>\n",
       "    <tr>\n",
       "      <th>14074</th>\n",
       "      <td>253.0</td>\n",
       "      <td>91</td>\n",
       "      <td>1</td>\n",
       "      <td>0</td>\n",
       "      <td>46.357143</td>\n",
       "      <td>104.750000</td>\n",
       "      <td>232.400000</td>\n",
       "      <td>71.296296</td>\n",
       "      <td>99.925926</td>\n",
       "      <td>18.370370</td>\n",
       "      <td>35.839091</td>\n",
       "      <td>48</td>\n",
       "      <td>3</td>\n",
       "      <td>31.072549</td>\n",
       "      <td>0</td>\n",
       "    </tr>\n",
       "    <tr>\n",
       "      <th>14075</th>\n",
       "      <td>417.0</td>\n",
       "      <td>91</td>\n",
       "      <td>1</td>\n",
       "      <td>1</td>\n",
       "      <td>73.181818</td>\n",
       "      <td>120.318182</td>\n",
       "      <td>111.600000</td>\n",
       "      <td>88.565217</td>\n",
       "      <td>99.954545</td>\n",
       "      <td>15.687500</td>\n",
       "      <td>37.156000</td>\n",
       "      <td>26</td>\n",
       "      <td>5</td>\n",
       "      <td>30.558477</td>\n",
       "      <td>0</td>\n",
       "    </tr>\n",
       "    <tr>\n",
       "      <th>14076</th>\n",
       "      <td>269.0</td>\n",
       "      <td>91</td>\n",
       "      <td>1</td>\n",
       "      <td>1</td>\n",
       "      <td>45.560000</td>\n",
       "      <td>112.620000</td>\n",
       "      <td>169.700000</td>\n",
       "      <td>55.750000</td>\n",
       "      <td>99.913043</td>\n",
       "      <td>15.086957</td>\n",
       "      <td>33.550000</td>\n",
       "      <td>119</td>\n",
       "      <td>5</td>\n",
       "      <td>30.558477</td>\n",
       "      <td>1</td>\n",
       "    </tr>\n",
       "  </tbody>\n",
       "</table>\n",
       "<p>14077 rows × 15 columns</p>\n",
       "</div>"
      ],
      "text/plain": [
       "       glucose_max  anchor_age  dod  gender   dbp_mean    sbp_mean  \\\n",
       "0            277.0          36    0       0  64.320000  112.880000   \n",
       "1           2340.0          35    0       0  77.769231  122.961538   \n",
       "2            531.0          23    1       0  64.169118  119.661765   \n",
       "3            259.0          19    1       1  49.300000   74.200000   \n",
       "4            406.0          24    0       0  57.333333   92.848485   \n",
       "...            ...         ...  ...     ...        ...         ...   \n",
       "14072        297.0          91    1       0  65.250000  118.214286   \n",
       "14073        265.0          91    1       0  55.280000  137.200000   \n",
       "14074        253.0          91    1       0  46.357143  104.750000   \n",
       "14075        417.0          91    1       1  73.181818  120.318182   \n",
       "14076        269.0          91    1       1  45.560000  112.620000   \n",
       "\n",
       "       glucose_mean  heart_rate_mean  spo2_mean  resp_rate_mean  \\\n",
       "0        221.272727       101.800000  92.000000       17.346154   \n",
       "1        468.592593       105.361111  96.093023       19.813953   \n",
       "2        275.352941       154.028986  83.698413       25.584615   \n",
       "3        259.000000        89.750000  70.000000       26.333333   \n",
       "4        292.000000        86.631579  96.162162       15.289474   \n",
       "...             ...              ...        ...             ...   \n",
       "14072    142.444444        58.740741  99.925926       15.615385   \n",
       "14073    203.000000        60.769231  99.800000       15.700000   \n",
       "14074    232.400000        71.296296  99.925926       18.370370   \n",
       "14075    111.600000        88.565217  99.954545       15.687500   \n",
       "14076    169.700000        55.750000  99.913043       15.086957   \n",
       "\n",
       "       temperature_mean  apsiii  glucose_score  avg_bmi_value  label  \n",
       "0             37.186250      38              3      26.750000      0  \n",
       "1             36.727586      87              5      30.558477      0  \n",
       "2             39.725000     158              5      30.558477      1  \n",
       "3             31.900000      88              3      30.558477      0  \n",
       "4             33.590000     150              5      30.558477      1  \n",
       "...                 ...     ...            ...            ...    ...  \n",
       "14072         32.610000     135              3      30.558477      1  \n",
       "14073         37.008571      86              3      30.558477      1  \n",
       "14074         35.839091      48              3      31.072549      0  \n",
       "14075         37.156000      26              5      30.558477      0  \n",
       "14076         33.550000     119              5      30.558477      1  \n",
       "\n",
       "[14077 rows x 15 columns]"
      ]
     },
     "execution_count": 2,
     "metadata": {},
     "output_type": "execute_result"
    }
   ],
   "source": [
    "# Read data\n",
    "patient_df = pd.read_csv('../data/hyperglycemic_patients_w_categories.csv', usecols=list(range(3,18)))\n",
    "patient_df"
   ]
  },
  {
   "cell_type": "markdown",
   "metadata": {},
   "source": [
    "### Without Standardization"
   ]
  },
  {
   "cell_type": "code",
   "execution_count": 3,
   "metadata": {},
   "outputs": [],
   "source": [
    "# Data split\n",
    "X = patient_df.loc[:, patient_df.columns != 'label']\n",
    "y = patient_df.iloc[:, -1]\n",
    "X_train, X_test, y_train, y_test = train_test_split(X, y, test_size=0.2, random_state=SEED)"
   ]
  },
  {
   "cell_type": "code",
   "execution_count": 4,
   "metadata": {},
   "outputs": [
    {
     "data": {
      "text/html": [
       "<div>\n",
       "<style scoped>\n",
       "    .dataframe tbody tr th:only-of-type {\n",
       "        vertical-align: middle;\n",
       "    }\n",
       "\n",
       "    .dataframe tbody tr th {\n",
       "        vertical-align: top;\n",
       "    }\n",
       "\n",
       "    .dataframe thead th {\n",
       "        text-align: right;\n",
       "    }\n",
       "</style>\n",
       "<table border=\"1\" class=\"dataframe\">\n",
       "  <thead>\n",
       "    <tr style=\"text-align: right;\">\n",
       "      <th></th>\n",
       "      <th>glucose_max</th>\n",
       "      <th>anchor_age</th>\n",
       "      <th>dod</th>\n",
       "      <th>gender</th>\n",
       "      <th>dbp_mean</th>\n",
       "      <th>sbp_mean</th>\n",
       "      <th>glucose_mean</th>\n",
       "      <th>heart_rate_mean</th>\n",
       "      <th>spo2_mean</th>\n",
       "      <th>resp_rate_mean</th>\n",
       "      <th>temperature_mean</th>\n",
       "      <th>apsiii</th>\n",
       "      <th>glucose_score</th>\n",
       "      <th>avg_bmi_value</th>\n",
       "    </tr>\n",
       "  </thead>\n",
       "  <tbody>\n",
       "    <tr>\n",
       "      <th>9792</th>\n",
       "      <td>506.0</td>\n",
       "      <td>73</td>\n",
       "      <td>1</td>\n",
       "      <td>0</td>\n",
       "      <td>51.523810</td>\n",
       "      <td>124.714286</td>\n",
       "      <td>322.142857</td>\n",
       "      <td>77.590909</td>\n",
       "      <td>97.238095</td>\n",
       "      <td>18.476190</td>\n",
       "      <td>36.850000</td>\n",
       "      <td>52</td>\n",
       "      <td>5</td>\n",
       "      <td>24.540000</td>\n",
       "    </tr>\n",
       "    <tr>\n",
       "      <th>12480</th>\n",
       "      <td>226.0</td>\n",
       "      <td>83</td>\n",
       "      <td>1</td>\n",
       "      <td>1</td>\n",
       "      <td>54.750000</td>\n",
       "      <td>81.500000</td>\n",
       "      <td>226.000000</td>\n",
       "      <td>101.100000</td>\n",
       "      <td>81.777778</td>\n",
       "      <td>23.857143</td>\n",
       "      <td>35.000000</td>\n",
       "      <td>111</td>\n",
       "      <td>3</td>\n",
       "      <td>38.281818</td>\n",
       "    </tr>\n",
       "    <tr>\n",
       "      <th>3769</th>\n",
       "      <td>284.0</td>\n",
       "      <td>55</td>\n",
       "      <td>1</td>\n",
       "      <td>0</td>\n",
       "      <td>41.454545</td>\n",
       "      <td>109.545455</td>\n",
       "      <td>274.230769</td>\n",
       "      <td>109.000000</td>\n",
       "      <td>97.000000</td>\n",
       "      <td>17.187500</td>\n",
       "      <td>37.620000</td>\n",
       "      <td>57</td>\n",
       "      <td>5</td>\n",
       "      <td>30.558477</td>\n",
       "    </tr>\n",
       "    <tr>\n",
       "      <th>7152</th>\n",
       "      <td>213.0</td>\n",
       "      <td>65</td>\n",
       "      <td>0</td>\n",
       "      <td>0</td>\n",
       "      <td>66.600000</td>\n",
       "      <td>127.360000</td>\n",
       "      <td>174.250000</td>\n",
       "      <td>77.178571</td>\n",
       "      <td>96.214286</td>\n",
       "      <td>21.607143</td>\n",
       "      <td>36.902857</td>\n",
       "      <td>21</td>\n",
       "      <td>3</td>\n",
       "      <td>30.558477</td>\n",
       "    </tr>\n",
       "    <tr>\n",
       "      <th>8129</th>\n",
       "      <td>288.0</td>\n",
       "      <td>68</td>\n",
       "      <td>0</td>\n",
       "      <td>0</td>\n",
       "      <td>63.090909</td>\n",
       "      <td>130.272727</td>\n",
       "      <td>223.600000</td>\n",
       "      <td>68.782609</td>\n",
       "      <td>97.347826</td>\n",
       "      <td>19.291667</td>\n",
       "      <td>36.648333</td>\n",
       "      <td>36</td>\n",
       "      <td>3</td>\n",
       "      <td>31.050000</td>\n",
       "    </tr>\n",
       "  </tbody>\n",
       "</table>\n",
       "</div>"
      ],
      "text/plain": [
       "       glucose_max  anchor_age  dod  gender   dbp_mean    sbp_mean  \\\n",
       "9792         506.0          73    1       0  51.523810  124.714286   \n",
       "12480        226.0          83    1       1  54.750000   81.500000   \n",
       "3769         284.0          55    1       0  41.454545  109.545455   \n",
       "7152         213.0          65    0       0  66.600000  127.360000   \n",
       "8129         288.0          68    0       0  63.090909  130.272727   \n",
       "\n",
       "       glucose_mean  heart_rate_mean  spo2_mean  resp_rate_mean  \\\n",
       "9792     322.142857        77.590909  97.238095       18.476190   \n",
       "12480    226.000000       101.100000  81.777778       23.857143   \n",
       "3769     274.230769       109.000000  97.000000       17.187500   \n",
       "7152     174.250000        77.178571  96.214286       21.607143   \n",
       "8129     223.600000        68.782609  97.347826       19.291667   \n",
       "\n",
       "       temperature_mean  apsiii  glucose_score  avg_bmi_value  \n",
       "9792          36.850000      52              5      24.540000  \n",
       "12480         35.000000     111              3      38.281818  \n",
       "3769          37.620000      57              5      30.558477  \n",
       "7152          36.902857      21              3      30.558477  \n",
       "8129          36.648333      36              3      31.050000  "
      ]
     },
     "execution_count": 4,
     "metadata": {},
     "output_type": "execute_result"
    }
   ],
   "source": [
    "X_train.head()"
   ]
  },
  {
   "cell_type": "code",
   "execution_count": 5,
   "metadata": {},
   "outputs": [
    {
     "data": {
      "text/plain": [
       "GridSearchCV(cv=5, estimator=LogisticRegression(random_state=90089), n_jobs=6,\n",
       "             param_grid={'C': [0.1, 1, 10], 'penalty': ['l1', 'l2'],\n",
       "                         'solver': ['liblinear', 'saga']})"
      ]
     },
     "execution_count": 5,
     "metadata": {},
     "output_type": "execute_result"
    }
   ],
   "source": [
    "# Tune model with stratifiedKFold cross validation\n",
    "lr = LogisticRegression(random_state=SEED)\n",
    "\n",
    "parameters = {\n",
    "    'penalty': ['l1', 'l2'],\n",
    "    'C'      : [0.1, 1, 10],\n",
    "    'solver' : ['liblinear', 'saga']}\n",
    "grid_lr = GridSearchCV(lr, parameters, cv=5, n_jobs=6)\n",
    "grid_lr.fit(X_train, y_train)"
   ]
  },
  {
   "cell_type": "code",
   "execution_count": 6,
   "metadata": {},
   "outputs": [
    {
     "name": "stdout",
     "output_type": "stream",
     "text": [
      "----         Results from Grid Search           ---\n",
      "\n",
      " The best estimator across ALL searched params:\n",
      " LogisticRegression(C=1, penalty='l1', random_state=90089, solver='liblinear')\n",
      "\n",
      " The best parameters across ALL searched params:\n",
      " {'C': 1, 'penalty': 'l1', 'solver': 'liblinear'}\n"
     ]
    }
   ],
   "source": [
    "print(\"----         Results from Grid Search           ---\")\n",
    "print(\"\\n The best estimator across ALL searched params:\\n\", grid_lr.best_estimator_)\n",
    "print(\"\\n The best parameters across ALL searched params:\\n\", grid_lr.best_params_)"
   ]
  },
  {
   "cell_type": "code",
   "execution_count": 7,
   "metadata": {},
   "outputs": [],
   "source": [
    "best_lr = LogisticRegression(\n",
    "    C = 1,\n",
    "    penalty = 'l1',\n",
    "    solver = 'liblinear',\n",
    "    random_state=SEED)"
   ]
  },
  {
   "cell_type": "code",
   "execution_count": 8,
   "metadata": {},
   "outputs": [
    {
     "data": {
      "text/plain": [
       "0.8249289772727273"
      ]
     },
     "execution_count": 8,
     "metadata": {},
     "output_type": "execute_result"
    }
   ],
   "source": [
    "best_lr.fit(X_train, y_train)\n",
    "best_lr.score(X_test, y_test)"
   ]
  },
  {
   "cell_type": "markdown",
   "metadata": {},
   "source": [
    "### With Standardization"
   ]
  },
  {
   "cell_type": "code",
   "execution_count": 13,
   "metadata": {},
   "outputs": [
    {
     "name": "stdout",
     "output_type": "stream",
     "text": [
      "X Standardized data Shape:  (14077, 11)\n",
      "X Categorical data shape:   (14077, 3)\n",
      "X, y shape:                 (14077, 14) (14077,)\n"
     ]
    }
   ],
   "source": [
    "numerical_features = ['glucose_max', 'dbp_mean', 'sbp_mean', 'glucose_mean', \n",
    "                      'heart_rate_mean', 'spo2_mean', 'resp_rate_mean', 'temperature_mean', \n",
    "                      'apsiii', 'glucose_score', 'avg_bmi_value']\n",
    "\n",
    "# Standardized variable for consistent measurement across numerical values\n",
    "scaler = StandardScaler()\n",
    "X_std = scaler.fit_transform(patient_df[numerical_features])\n",
    "\n",
    "# Interpolate categorical variables\n",
    "X_cat = patient_df[['anchor_age', 'dod', 'gender']]\n",
    "\n",
    "\n",
    "X = np.concatenate([X_std, X_cat.to_numpy()], axis=1)\n",
    "y = patient_df[\"label\"]\n",
    "print(\"X Standardized data Shape: \", X_std.shape)\n",
    "print(\"X Categorical data shape:  \", X_cat.shape)\n",
    "print(\"X, y shape:                \", X.shape, y.shape)"
   ]
  },
  {
   "cell_type": "code",
   "execution_count": 14,
   "metadata": {},
   "outputs": [],
   "source": [
    "X_train_std, X_test_std, y_train_std, y_test_std = train_test_split(X, y, test_size=0.2, random_state=SEED)"
   ]
  },
  {
   "cell_type": "code",
   "execution_count": 16,
   "metadata": {},
   "outputs": [
    {
     "name": "stderr",
     "output_type": "stream",
     "text": [
      "d:\\miniconda3\\envs\\cv\\lib\\site-packages\\sklearn\\linear_model\\_sag.py:329: ConvergenceWarning: The max_iter was reached which means the coef_ did not converge\n",
      "  \"the coef_ did not converge\", ConvergenceWarning)\n"
     ]
    },
    {
     "data": {
      "text/plain": [
       "GridSearchCV(cv=5, estimator=LogisticRegression(random_state=90089), n_jobs=6,\n",
       "             param_grid={'C': [0.1, 1, 10], 'penalty': ['l1', 'l2'],\n",
       "                         'solver': ['liblinear', 'saga']})"
      ]
     },
     "execution_count": 16,
     "metadata": {},
     "output_type": "execute_result"
    }
   ],
   "source": [
    "lr_std = LogisticRegression(random_state=SEED)\n",
    "\n",
    "parameters = {\n",
    "    'penalty': ['l1', 'l2'],\n",
    "    'C'      : [0.1, 1, 10],\n",
    "    'solver' : ['liblinear', 'saga']}\n",
    "grid_lr_std = GridSearchCV(lr_std, parameters, cv=5, n_jobs=6)\n",
    "grid_lr_std.fit(X_train_std, y_train_std)"
   ]
  },
  {
   "cell_type": "code",
   "execution_count": 17,
   "metadata": {},
   "outputs": [
    {
     "name": "stdout",
     "output_type": "stream",
     "text": [
      "----         Results from Grid Search           ---\n",
      "\n",
      " The best estimator across ALL searched params:\n",
      " LogisticRegression(C=0.1, random_state=90089, solver='saga')\n",
      "\n",
      " The best parameters across ALL searched params:\n",
      " {'C': 0.1, 'penalty': 'l2', 'solver': 'saga'}\n"
     ]
    }
   ],
   "source": [
    "print(\"----         Results from Grid Search           ---\")\n",
    "print(\"\\n The best estimator across ALL searched params:\\n\", grid_lr_std.best_estimator_)\n",
    "print(\"\\n The best parameters across ALL searched params:\\n\", grid_lr_std.best_params_)"
   ]
  },
  {
   "cell_type": "code",
   "execution_count": 18,
   "metadata": {},
   "outputs": [],
   "source": [
    "best_lr_std = LogisticRegression(\n",
    "    C = 0.1,\n",
    "    penalty = 'l2',\n",
    "    solver = 'saga',\n",
    "    random_state=SEED)"
   ]
  },
  {
   "cell_type": "code",
   "execution_count": 19,
   "metadata": {},
   "outputs": [
    {
     "name": "stderr",
     "output_type": "stream",
     "text": [
      "d:\\miniconda3\\envs\\cv\\lib\\site-packages\\sklearn\\linear_model\\_sag.py:329: ConvergenceWarning: The max_iter was reached which means the coef_ did not converge\n",
      "  \"the coef_ did not converge\", ConvergenceWarning)\n"
     ]
    },
    {
     "data": {
      "text/plain": [
       "0.8274147727272727"
      ]
     },
     "execution_count": 19,
     "metadata": {},
     "output_type": "execute_result"
    }
   ],
   "source": [
    "best_lr_std.fit(X_train_std, y_train_std)\n",
    "best_lr_std.score(X_test_std, y_test_std)"
   ]
  }
 ],
 "metadata": {
  "kernelspec": {
   "display_name": "Python 3.7.11 ('cv')",
   "language": "python",
   "name": "python3"
  },
  "language_info": {
   "codemirror_mode": {
    "name": "ipython",
    "version": 3
   },
   "file_extension": ".py",
   "mimetype": "text/x-python",
   "name": "python",
   "nbconvert_exporter": "python",
   "pygments_lexer": "ipython3",
   "version": "3.7.11"
  },
  "orig_nbformat": 4,
  "vscode": {
   "interpreter": {
    "hash": "c25497626eb387c829d69d77d2a11d4b3d4e6b3e3b316f5a1837374208b5d84c"
   }
  }
 },
 "nbformat": 4,
 "nbformat_minor": 2
}
