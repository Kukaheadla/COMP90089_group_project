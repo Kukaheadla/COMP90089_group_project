{
 "cells": [
  {
   "cell_type": "markdown",
   "metadata": {},
   "source": [
    "### `RandomForest` Modelling on Hyperglycemic data with imbalanced labelling"
   ]
  },
  {
   "cell_type": "code",
   "execution_count": 11,
   "metadata": {},
   "outputs": [],
   "source": [
    "import numpy as np\n",
    "import pandas as pd\n",
    "import warnings\n",
    "\n",
    "from sklearn.model_selection import train_test_split\n",
    "from sklearn.preprocessing import StandardScaler\n",
    "from sklearn.ensemble import RandomForestClassifier, RandomForestRegressor\n",
    "from sklearn.multiclass import OneVsRestClassifier\n",
    "from sklearn.preprocessing import LabelBinarizer\n",
    "\n",
    "from sklearn.model_selection import RandomizedSearchCV\n",
    "from sklearn.metrics import classification_report\n",
    "SEED=90089"
   ]
  },
  {
   "cell_type": "code",
   "execution_count": 12,
   "metadata": {},
   "outputs": [
    {
     "name": "stdout",
     "output_type": "stream",
     "text": [
      "Dataframe shape:    (12872, 18)\n",
      "Dataframe Features: Index(['subject_id', 'stay_id', 'glucose_max', 'anchor_age', 'dod', 'gender',\n",
      "       'dbp_mean', 'sbp_mean', 'glucose_mean', 'heart_rate_mean', 'spo2_mean',\n",
      "       'resp_rate_mean', 'temperature_mean', 'apsiii', 'glucose_score', 'los',\n",
      "       'avg_bmi_value', 'label'],\n",
      "      dtype='object')\n"
     ]
    },
    {
     "data": {
      "text/html": [
       "<div>\n",
       "<style scoped>\n",
       "    .dataframe tbody tr th:only-of-type {\n",
       "        vertical-align: middle;\n",
       "    }\n",
       "\n",
       "    .dataframe tbody tr th {\n",
       "        vertical-align: top;\n",
       "    }\n",
       "\n",
       "    .dataframe thead th {\n",
       "        text-align: right;\n",
       "    }\n",
       "</style>\n",
       "<table border=\"1\" class=\"dataframe\">\n",
       "  <thead>\n",
       "    <tr style=\"text-align: right;\">\n",
       "      <th></th>\n",
       "      <th>subject_id</th>\n",
       "      <th>stay_id</th>\n",
       "      <th>glucose_max</th>\n",
       "      <th>anchor_age</th>\n",
       "      <th>dod</th>\n",
       "      <th>gender</th>\n",
       "      <th>dbp_mean</th>\n",
       "      <th>sbp_mean</th>\n",
       "      <th>glucose_mean</th>\n",
       "      <th>heart_rate_mean</th>\n",
       "      <th>spo2_mean</th>\n",
       "      <th>resp_rate_mean</th>\n",
       "      <th>temperature_mean</th>\n",
       "      <th>apsiii</th>\n",
       "      <th>glucose_score</th>\n",
       "      <th>los</th>\n",
       "      <th>avg_bmi_value</th>\n",
       "      <th>label</th>\n",
       "    </tr>\n",
       "  </thead>\n",
       "  <tbody>\n",
       "    <tr>\n",
       "      <th>0</th>\n",
       "      <td>12041046</td>\n",
       "      <td>31249096</td>\n",
       "      <td>277.0</td>\n",
       "      <td>36</td>\n",
       "      <td>0</td>\n",
       "      <td>0</td>\n",
       "      <td>64.320000</td>\n",
       "      <td>112.880000</td>\n",
       "      <td>221.272727</td>\n",
       "      <td>101.800000</td>\n",
       "      <td>92.000000</td>\n",
       "      <td>17.346154</td>\n",
       "      <td>37.186250</td>\n",
       "      <td>38</td>\n",
       "      <td>3</td>\n",
       "      <td>1.938414</td>\n",
       "      <td>26.750000</td>\n",
       "      <td>0</td>\n",
       "    </tr>\n",
       "    <tr>\n",
       "      <th>1</th>\n",
       "      <td>17421995</td>\n",
       "      <td>38100564</td>\n",
       "      <td>2340.0</td>\n",
       "      <td>35</td>\n",
       "      <td>0</td>\n",
       "      <td>0</td>\n",
       "      <td>77.769231</td>\n",
       "      <td>122.961538</td>\n",
       "      <td>468.592593</td>\n",
       "      <td>105.361111</td>\n",
       "      <td>96.093023</td>\n",
       "      <td>19.813953</td>\n",
       "      <td>36.727586</td>\n",
       "      <td>87</td>\n",
       "      <td>5</td>\n",
       "      <td>4.472905</td>\n",
       "      <td>30.558477</td>\n",
       "      <td>1</td>\n",
       "    </tr>\n",
       "    <tr>\n",
       "      <th>2</th>\n",
       "      <td>10352416</td>\n",
       "      <td>35043893</td>\n",
       "      <td>531.0</td>\n",
       "      <td>23</td>\n",
       "      <td>1</td>\n",
       "      <td>0</td>\n",
       "      <td>64.169118</td>\n",
       "      <td>119.661765</td>\n",
       "      <td>275.352941</td>\n",
       "      <td>154.028986</td>\n",
       "      <td>83.698413</td>\n",
       "      <td>25.584615</td>\n",
       "      <td>39.725000</td>\n",
       "      <td>158</td>\n",
       "      <td>5</td>\n",
       "      <td>11.636042</td>\n",
       "      <td>30.558477</td>\n",
       "      <td>2</td>\n",
       "    </tr>\n",
       "    <tr>\n",
       "      <th>3</th>\n",
       "      <td>16924291</td>\n",
       "      <td>34261137</td>\n",
       "      <td>259.0</td>\n",
       "      <td>19</td>\n",
       "      <td>1</td>\n",
       "      <td>1</td>\n",
       "      <td>49.300000</td>\n",
       "      <td>74.200000</td>\n",
       "      <td>259.000000</td>\n",
       "      <td>89.750000</td>\n",
       "      <td>70.000000</td>\n",
       "      <td>26.333333</td>\n",
       "      <td>31.900000</td>\n",
       "      <td>88</td>\n",
       "      <td>3</td>\n",
       "      <td>0.309664</td>\n",
       "      <td>30.558477</td>\n",
       "      <td>0</td>\n",
       "    </tr>\n",
       "    <tr>\n",
       "      <th>4</th>\n",
       "      <td>13553087</td>\n",
       "      <td>36461140</td>\n",
       "      <td>398.0</td>\n",
       "      <td>31</td>\n",
       "      <td>0</td>\n",
       "      <td>0</td>\n",
       "      <td>78.600000</td>\n",
       "      <td>133.800000</td>\n",
       "      <td>285.000000</td>\n",
       "      <td>100.826087</td>\n",
       "      <td>90.304348</td>\n",
       "      <td>25.173913</td>\n",
       "      <td>36.593333</td>\n",
       "      <td>34</td>\n",
       "      <td>5</td>\n",
       "      <td>2.794167</td>\n",
       "      <td>30.558477</td>\n",
       "      <td>0</td>\n",
       "    </tr>\n",
       "  </tbody>\n",
       "</table>\n",
       "</div>"
      ],
      "text/plain": [
       "   subject_id   stay_id  glucose_max  anchor_age  dod  gender   dbp_mean  \\\n",
       "0    12041046  31249096        277.0          36    0       0  64.320000   \n",
       "1    17421995  38100564       2340.0          35    0       0  77.769231   \n",
       "2    10352416  35043893        531.0          23    1       0  64.169118   \n",
       "3    16924291  34261137        259.0          19    1       1  49.300000   \n",
       "4    13553087  36461140        398.0          31    0       0  78.600000   \n",
       "\n",
       "     sbp_mean  glucose_mean  heart_rate_mean  spo2_mean  resp_rate_mean  \\\n",
       "0  112.880000    221.272727       101.800000  92.000000       17.346154   \n",
       "1  122.961538    468.592593       105.361111  96.093023       19.813953   \n",
       "2  119.661765    275.352941       154.028986  83.698413       25.584615   \n",
       "3   74.200000    259.000000        89.750000  70.000000       26.333333   \n",
       "4  133.800000    285.000000       100.826087  90.304348       25.173913   \n",
       "\n",
       "   temperature_mean  apsiii  glucose_score        los  avg_bmi_value  label  \n",
       "0         37.186250      38              3   1.938414      26.750000      0  \n",
       "1         36.727586      87              5   4.472905      30.558477      1  \n",
       "2         39.725000     158              5  11.636042      30.558477      2  \n",
       "3         31.900000      88              3   0.309664      30.558477      0  \n",
       "4         36.593333      34              5   2.794167      30.558477      0  "
      ]
     },
     "execution_count": 12,
     "metadata": {},
     "output_type": "execute_result"
    }
   ],
   "source": [
    "# Read Data\n",
    "patient_df = pd.read_csv('../data/hyperglycemic_patients_w_bin_categories.csv', index_col=0)\n",
    "\n",
    "# print detail summary\n",
    "print(\"Dataframe shape:   \", patient_df.shape)\n",
    "print(\"Dataframe Features:\", patient_df.columns)\n",
    "patient_df.head()"
   ]
  },
  {
   "cell_type": "code",
   "execution_count": 13,
   "metadata": {},
   "outputs": [
    {
     "name": "stdout",
     "output_type": "stream",
     "text": [
      "Null value in Feature set summary:\n",
      " subject_id          0\n",
      "stay_id             0\n",
      "glucose_max         0\n",
      "anchor_age          0\n",
      "dod                 0\n",
      "gender              0\n",
      "dbp_mean            0\n",
      "sbp_mean            0\n",
      "glucose_mean        0\n",
      "heart_rate_mean     0\n",
      "spo2_mean           0\n",
      "resp_rate_mean      0\n",
      "temperature_mean    0\n",
      "apsiii              0\n",
      "glucose_score       0\n",
      "los                 0\n",
      "avg_bmi_value       0\n",
      "label               0\n",
      "dtype: int64\n"
     ]
    }
   ],
   "source": [
    "print(\"Null value in Feature set summary:\\n\",patient_df.isnull().sum())"
   ]
  },
  {
   "cell_type": "code",
   "execution_count": 14,
   "metadata": {},
   "outputs": [
    {
     "name": "stdout",
     "output_type": "stream",
     "text": [
      "Label Distirbution:\n",
      " 0    8389\n",
      "1    3165\n",
      "2    1318\n",
      "Name: label, dtype: int64\n"
     ]
    }
   ],
   "source": [
    "print(\"Label Distirbution:\\n\", patient_df['label'].value_counts())"
   ]
  },
  {
   "cell_type": "code",
   "execution_count": 15,
   "metadata": {},
   "outputs": [
    {
     "name": "stdout",
     "output_type": "stream",
     "text": [
      "X Standardized data Shape:  (12872, 12)\n",
      "X Categorical data shape:   (12872, 1)\n",
      "X, y shape:                 (12872, 13) (12872,)\n"
     ]
    }
   ],
   "source": [
    "numerical_features = ['glucose_max', 'anchor_age', 'dbp_mean', \n",
    "                    'sbp_mean', 'glucose_mean', 'heart_rate_mean', 'spo2_mean', \n",
    "                    'resp_rate_mean', 'temperature_mean', 'apsiii', 'glucose_score', 'avg_bmi_value']\n",
    "\n",
    "# Standardized variable for consistent measurement across numerical values\n",
    "scaler = StandardScaler()\n",
    "X_std = scaler.fit_transform(patient_df[numerical_features])\n",
    "\n",
    "# Interpolate categorical variables\n",
    "X_cat = patient_df[['gender']] \n",
    "\n",
    "\n",
    "X = np.concatenate([X_std, X_cat.to_numpy()], axis=1)\n",
    "y = patient_df[\"label\"]\n",
    "print(\"X Standardized data Shape: \", X_std.shape)\n",
    "print(\"X Categorical data shape:  \", X_cat.shape)\n",
    "print(\"X, y shape:                \", X.shape, y.shape)"
   ]
  },
  {
   "cell_type": "code",
   "execution_count": 16,
   "metadata": {},
   "outputs": [
    {
     "name": "stdout",
     "output_type": "stream",
     "text": [
      "Train data shape: (10297, 13) (10297,)\n",
      "Test data shape: (2575, 13) (2575,)\n"
     ]
    }
   ],
   "source": [
    "# Split data based on training \n",
    "X_train, X_test, y_train, y_test = train_test_split(X, y, \n",
    "                                                    train_size=0.8, \n",
    "                                                    random_state=SEED)\n",
    "print(\"Train data shape:\", X_train.shape, y_train.shape)\n",
    "print(\"Test data shape:\", X_test.shape, y_test.shape)"
   ]
  },
  {
   "cell_type": "markdown",
   "metadata": {},
   "source": [
    "### Hyperparameter Tunning on `RandomForest`"
   ]
  },
  {
   "cell_type": "code",
   "execution_count": 17,
   "metadata": {},
   "outputs": [],
   "source": [
    "param_grid = {\n",
    " 'bootstrap'        : [True, False],\n",
    " 'max_depth'        : [20, 60, 100, None],\n",
    " 'min_samples_leaf' : [1, 4],\n",
    " 'max_features'     : ['sqrt', 'log2'],\n",
    " 'min_samples_split': [2, 5, 10],\n",
    " 'n_estimators'     : [600, 1000, 1400]}\n",
    "rf_model = RandomForestClassifier(random_state=SEED)"
   ]
  },
  {
   "cell_type": "code",
   "execution_count": 154,
   "metadata": {},
   "outputs": [],
   "source": [
    "# disable deprecation warnings\n",
    "warnings.filterwarnings('ignore')"
   ]
  },
  {
   "cell_type": "code",
   "execution_count": 58,
   "metadata": {},
   "outputs": [
    {
     "data": {
      "text/html": [
       "<style>#sk-container-id-1 {color: black;background-color: white;}#sk-container-id-1 pre{padding: 0;}#sk-container-id-1 div.sk-toggleable {background-color: white;}#sk-container-id-1 label.sk-toggleable__label {cursor: pointer;display: block;width: 100%;margin-bottom: 0;padding: 0.3em;box-sizing: border-box;text-align: center;}#sk-container-id-1 label.sk-toggleable__label-arrow:before {content: \"▸\";float: left;margin-right: 0.25em;color: #696969;}#sk-container-id-1 label.sk-toggleable__label-arrow:hover:before {color: black;}#sk-container-id-1 div.sk-estimator:hover label.sk-toggleable__label-arrow:before {color: black;}#sk-container-id-1 div.sk-toggleable__content {max-height: 0;max-width: 0;overflow: hidden;text-align: left;background-color: #f0f8ff;}#sk-container-id-1 div.sk-toggleable__content pre {margin: 0.2em;color: black;border-radius: 0.25em;background-color: #f0f8ff;}#sk-container-id-1 input.sk-toggleable__control:checked~div.sk-toggleable__content {max-height: 200px;max-width: 100%;overflow: auto;}#sk-container-id-1 input.sk-toggleable__control:checked~label.sk-toggleable__label-arrow:before {content: \"▾\";}#sk-container-id-1 div.sk-estimator input.sk-toggleable__control:checked~label.sk-toggleable__label {background-color: #d4ebff;}#sk-container-id-1 div.sk-label input.sk-toggleable__control:checked~label.sk-toggleable__label {background-color: #d4ebff;}#sk-container-id-1 input.sk-hidden--visually {border: 0;clip: rect(1px 1px 1px 1px);clip: rect(1px, 1px, 1px, 1px);height: 1px;margin: -1px;overflow: hidden;padding: 0;position: absolute;width: 1px;}#sk-container-id-1 div.sk-estimator {font-family: monospace;background-color: #f0f8ff;border: 1px dotted black;border-radius: 0.25em;box-sizing: border-box;margin-bottom: 0.5em;}#sk-container-id-1 div.sk-estimator:hover {background-color: #d4ebff;}#sk-container-id-1 div.sk-parallel-item::after {content: \"\";width: 100%;border-bottom: 1px solid gray;flex-grow: 1;}#sk-container-id-1 div.sk-label:hover label.sk-toggleable__label {background-color: #d4ebff;}#sk-container-id-1 div.sk-serial::before {content: \"\";position: absolute;border-left: 1px solid gray;box-sizing: border-box;top: 0;bottom: 0;left: 50%;z-index: 0;}#sk-container-id-1 div.sk-serial {display: flex;flex-direction: column;align-items: center;background-color: white;padding-right: 0.2em;padding-left: 0.2em;position: relative;}#sk-container-id-1 div.sk-item {position: relative;z-index: 1;}#sk-container-id-1 div.sk-parallel {display: flex;align-items: stretch;justify-content: center;background-color: white;position: relative;}#sk-container-id-1 div.sk-item::before, #sk-container-id-1 div.sk-parallel-item::before {content: \"\";position: absolute;border-left: 1px solid gray;box-sizing: border-box;top: 0;bottom: 0;left: 50%;z-index: -1;}#sk-container-id-1 div.sk-parallel-item {display: flex;flex-direction: column;z-index: 1;position: relative;background-color: white;}#sk-container-id-1 div.sk-parallel-item:first-child::after {align-self: flex-end;width: 50%;}#sk-container-id-1 div.sk-parallel-item:last-child::after {align-self: flex-start;width: 50%;}#sk-container-id-1 div.sk-parallel-item:only-child::after {width: 0;}#sk-container-id-1 div.sk-dashed-wrapped {border: 1px dashed gray;margin: 0 0.4em 0.5em 0.4em;box-sizing: border-box;padding-bottom: 0.4em;background-color: white;}#sk-container-id-1 div.sk-label label {font-family: monospace;font-weight: bold;display: inline-block;line-height: 1.2em;}#sk-container-id-1 div.sk-label-container {text-align: center;}#sk-container-id-1 div.sk-container {/* jupyter's `normalize.less` sets `[hidden] { display: none; }` but bootstrap.min.css set `[hidden] { display: none !important; }` so we also need the `!important` here to be able to override the default hidden behavior on the sphinx rendered scikit-learn.org. See: https://github.com/scikit-learn/scikit-learn/issues/21755 */display: inline-block !important;position: relative;}#sk-container-id-1 div.sk-text-repr-fallback {display: none;}</style><div id=\"sk-container-id-1\" class=\"sk-top-container\"><div class=\"sk-text-repr-fallback\"><pre>RandomizedSearchCV(cv=5, estimator=RandomForestClassifier(random_state=90089),\n",
       "                   n_iter=100, n_jobs=7,\n",
       "                   param_distributions={&#x27;bootstrap&#x27;: [True, False],\n",
       "                                        &#x27;max_depth&#x27;: [20, 40, 60, 80, 100,\n",
       "                                                      None],\n",
       "                                        &#x27;max_features&#x27;: [&#x27;sqrt&#x27;, &#x27;log2&#x27;],\n",
       "                                        &#x27;min_samples_leaf&#x27;: [1, 4],\n",
       "                                        &#x27;min_samples_split&#x27;: [2, 5, 10],\n",
       "                                        &#x27;n_estimators&#x27;: [600, 1000, 1400]})</pre><b>In a Jupyter environment, please rerun this cell to show the HTML representation or trust the notebook. <br />On GitHub, the HTML representation is unable to render, please try loading this page with nbviewer.org.</b></div><div class=\"sk-container\" hidden><div class=\"sk-item sk-dashed-wrapped\"><div class=\"sk-label-container\"><div class=\"sk-label sk-toggleable\"><input class=\"sk-toggleable__control sk-hidden--visually\" id=\"sk-estimator-id-1\" type=\"checkbox\" ><label for=\"sk-estimator-id-1\" class=\"sk-toggleable__label sk-toggleable__label-arrow\">RandomizedSearchCV</label><div class=\"sk-toggleable__content\"><pre>RandomizedSearchCV(cv=5, estimator=RandomForestClassifier(random_state=90089),\n",
       "                   n_iter=100, n_jobs=7,\n",
       "                   param_distributions={&#x27;bootstrap&#x27;: [True, False],\n",
       "                                        &#x27;max_depth&#x27;: [20, 40, 60, 80, 100,\n",
       "                                                      None],\n",
       "                                        &#x27;max_features&#x27;: [&#x27;sqrt&#x27;, &#x27;log2&#x27;],\n",
       "                                        &#x27;min_samples_leaf&#x27;: [1, 4],\n",
       "                                        &#x27;min_samples_split&#x27;: [2, 5, 10],\n",
       "                                        &#x27;n_estimators&#x27;: [600, 1000, 1400]})</pre></div></div></div><div class=\"sk-parallel\"><div class=\"sk-parallel-item\"><div class=\"sk-item\"><div class=\"sk-label-container\"><div class=\"sk-label sk-toggleable\"><input class=\"sk-toggleable__control sk-hidden--visually\" id=\"sk-estimator-id-2\" type=\"checkbox\" ><label for=\"sk-estimator-id-2\" class=\"sk-toggleable__label sk-toggleable__label-arrow\">estimator: RandomForestClassifier</label><div class=\"sk-toggleable__content\"><pre>RandomForestClassifier(random_state=90089)</pre></div></div></div><div class=\"sk-serial\"><div class=\"sk-item\"><div class=\"sk-estimator sk-toggleable\"><input class=\"sk-toggleable__control sk-hidden--visually\" id=\"sk-estimator-id-3\" type=\"checkbox\" ><label for=\"sk-estimator-id-3\" class=\"sk-toggleable__label sk-toggleable__label-arrow\">RandomForestClassifier</label><div class=\"sk-toggleable__content\"><pre>RandomForestClassifier(random_state=90089)</pre></div></div></div></div></div></div></div></div></div></div>"
      ],
      "text/plain": [
       "RandomizedSearchCV(cv=5, estimator=RandomForestClassifier(random_state=90089),\n",
       "                   n_iter=100, n_jobs=7,\n",
       "                   param_distributions={'bootstrap': [True, False],\n",
       "                                        'max_depth': [20, 40, 60, 80, 100,\n",
       "                                                      None],\n",
       "                                        'max_features': ['sqrt', 'log2'],\n",
       "                                        'min_samples_leaf': [1, 4],\n",
       "                                        'min_samples_split': [2, 5, 10],\n",
       "                                        'n_estimators': [600, 1000, 1400]})"
      ]
     },
     "execution_count": 58,
     "metadata": {},
     "output_type": "execute_result"
    }
   ],
   "source": [
    "random_grid_rf = RandomizedSearchCV(rf_model, param_distributions=param_grid, \n",
    "                                    n_iter=100, cv=5, n_jobs=7)\n",
    "random_grid_rf.fit(X_train, y_train)"
   ]
  },
  {
   "cell_type": "code",
   "execution_count": 67,
   "metadata": {},
   "outputs": [
    {
     "name": "stdout",
     "output_type": "stream",
     "text": [
      "----         Results from Grid Search           ---\n",
      "\n",
      " The best estimator across ALL searched params:\n",
      " RandomForestClassifier(max_features='log2', min_samples_leaf=4,\n",
      "                       min_samples_split=5, n_estimators=1400,\n",
      "                       random_state=90089)\n",
      "\n",
      " The best parameters across ALL searched params:\n",
      " {'n_estimators': 1400, 'min_samples_split': 5, 'min_samples_leaf': 4, 'max_features': 'log2', 'max_depth': None, 'bootstrap': True}\n"
     ]
    }
   ],
   "source": [
    "print(\"----         Results from Grid Search           ---\")\n",
    "print(\"\\n The best estimator across ALL searched params:\\n\", random_grid_rf.best_estimator_)\n",
    "\n",
    "## Removed scoring due to combinations yielding NaN results\n",
    "#  print(\"\\n The best score across ALL searched params:\\n\", grid_RF.best_score_) \n",
    "print(\"\\n The best parameters across ALL searched params:\\n\", random_grid_rf.best_params_)"
   ]
  },
  {
   "cell_type": "code",
   "execution_count": 18,
   "metadata": {},
   "outputs": [],
   "source": [
    "# Instantiate RandomForest classifierr\n",
    "rf_clf = RandomForestClassifier(n_estimators=600, \n",
    "                                min_samples_split=2,\n",
    "                                min_samples_leaf=1,\n",
    "                                max_features='log2',\n",
    "                                max_depth=20,\n",
    "                                random_state=SEED,\n",
    "                                n_jobs=4)"
   ]
  },
  {
   "cell_type": "markdown",
   "metadata": {},
   "source": [
    "### Evaluation on `RandomForest` with imbalance data"
   ]
  },
  {
   "cell_type": "code",
   "execution_count": 19,
   "metadata": {},
   "outputs": [
    {
     "name": "stdout",
     "output_type": "stream",
     "text": [
      "Model Accuracy based on Testing dataset: 0.6485436893203883\n"
     ]
    }
   ],
   "source": [
    "rf_clf.fit(X_train, y_train)\n",
    "print(\"Model Accuracy based on Testing dataset:\", rf_clf.score(X_test, y_test))"
   ]
  },
  {
   "cell_type": "code",
   "execution_count": 20,
   "metadata": {},
   "outputs": [
    {
     "name": "stdout",
     "output_type": "stream",
     "text": [
      "RF Feature Importance: [0.08032324 0.07204832 0.08521041 0.08940546 0.08247345 0.08653198\n",
      " 0.09636299 0.08798932 0.09839143 0.13658905 0.00816293 0.06338162\n",
      " 0.01312981]\n",
      "              precision    recall  f1-score   support\n",
      "\n",
      "           0       0.94      0.68      0.79      2283\n",
      "           1       0.15      0.37      0.21       251\n",
      "           2       0.06      0.39      0.10        41\n",
      "\n",
      "    accuracy                           0.65      2575\n",
      "   macro avg       0.38      0.48      0.37      2575\n",
      "weighted avg       0.85      0.65      0.72      2575\n",
      "\n"
     ]
    }
   ],
   "source": [
    "print(\"RF Feature Importance:\", rf_clf.feature_importances_)\n",
    "\n",
    "y_pred = rf_clf.predict(X_test)\n",
    "print(classification_report(y_pred, y_test))"
   ]
  },
  {
   "cell_type": "code",
   "execution_count": null,
   "metadata": {},
   "outputs": [],
   "source": []
  }
 ],
 "metadata": {
  "kernelspec": {
   "display_name": "Python 3.8.8 64-bit ('3.8.8')",
   "language": "python",
   "name": "python3"
  },
  "language_info": {
   "codemirror_mode": {
    "name": "ipython",
    "version": 3
   },
   "file_extension": ".py",
   "mimetype": "text/x-python",
   "name": "python",
   "nbconvert_exporter": "python",
   "pygments_lexer": "ipython3",
   "version": "3.8.8"
  },
  "orig_nbformat": 4,
  "vscode": {
   "interpreter": {
    "hash": "7fe293631dbf4e3e938f4425b0bc23001f90f8ce621e843dc3f8b4d5fe727f19"
   }
  }
 },
 "nbformat": 4,
 "nbformat_minor": 2
}
